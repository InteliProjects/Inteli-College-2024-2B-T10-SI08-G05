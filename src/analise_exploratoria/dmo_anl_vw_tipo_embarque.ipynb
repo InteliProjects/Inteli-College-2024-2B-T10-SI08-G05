{
 "cells": [
  {
   "cell_type": "code",
   "execution_count": 20,
   "metadata": {},
   "outputs": [
    {
     "data": {
      "text/plain": [
       "'\\nImporta todas as bibliotecas necessárias para a análise exploratória, incluindo ferramentas para\\nredução de dimensionalidade e clustering.\\n\\nBibliotecas:\\n- pandas: Manipulação de dados\\n- numpy: Operações numéricas\\n- matplotlib: Visualização de dados\\n- seaborn: Visualização estatística\\n- os: Interação com o sistema operacional\\n- sklearn.decomposition.PCA: Análise de Componentes Principais\\n- sklearn.cluster.KMeans: Algoritmo de Clustering KMeans\\n- sklearn.preprocessing.StandardScaler: Escalonamento de dados\\n- boto3: Interação com AWS S3\\n'"
      ]
     },
     "execution_count": 20,
     "metadata": {},
     "output_type": "execute_result"
    }
   ],
   "source": [
    "import pandas as pd\n",
    "import numpy as np\n",
    "import matplotlib.pyplot as plt\n",
    "import seaborn as sns\n",
    "import plotly.express as px\n",
    "import os\n",
    "from sklearn.decomposition import PCA\n",
    "from sklearn.cluster import KMeans\n",
    "from sklearn.preprocessing import StandardScaler\n",
    "import uuid\n",
    "from datetime import datetime\n",
    "from dotenv import load_dotenv\n",
    "import boto3\n",
    "from skimpy import generate_test_data, skim\n",
    "\n",
    "# Configurações de visualização\n",
    "%matplotlib inline\n",
    "sns.set(style=\"whitegrid\")\n",
    "\n",
    "\"\"\"\n",
    "Importa todas as bibliotecas necessárias para a análise exploratória, incluindo ferramentas para\n",
    "redução de dimensionalidade e clustering.\n",
    "\n",
    "Bibliotecas:\n",
    "- pandas: Manipulação de dados\n",
    "- numpy: Operações numéricas\n",
    "- matplotlib: Visualização de dados\n",
    "- seaborn: Visualização estatística\n",
    "- os: Interação com o sistema operacional\n",
    "- sklearn.decomposition.PCA: Análise de Componentes Principais\n",
    "- sklearn.cluster.KMeans: Algoritmo de Clustering KMeans\n",
    "- sklearn.preprocessing.StandardScaler: Escalonamento de dados\n",
    "- boto3: Interação com AWS S3\n",
    "\"\"\""
   ]
  },
  {
   "cell_type": "code",
   "execution_count": 21,
   "metadata": {},
   "outputs": [
    {
     "name": "stdout",
     "output_type": "stream",
     "text": [
      "Arquivo CSV carregado com sucesso.\n"
     ]
    }
   ],
   "source": [
    "# Definir caminho do arquivo CSV\n",
    "DATA_DIR = r'C:\\Users\\Inteli\\Downloads\\dados_cptm\\caixa_preta'\n",
    "csv_file = 'dmo_anl_vw_tipo_embarque.csv'\n",
    "\n",
    "# Caminho completo para o arquivo CSV\n",
    "csv_path = os.path.join(DATA_DIR, csv_file)\n",
    "\n",
    "# Verificar se o arquivo CSV existe e carregá-lo\n",
    "df = None  # Inicializar a variável df para evitar problemas caso o arquivo não exista\n",
    "if os.path.exists(csv_path):\n",
    "    # Carregar o arquivo CSV em um DataFrame\n",
    "    df = pd.read_csv(csv_path)\n",
    "    print(\"Arquivo CSV carregado com sucesso.\")\n",
    "else:\n",
    "    print(f\"Arquivo {csv_file} não encontrado no diretório {DATA_DIR}.\")"
   ]
  },
  {
   "cell_type": "code",
   "execution_count": 22,
   "metadata": {},
   "outputs": [
    {
     "data": {
      "text/html": [
       "<div>\n",
       "<style scoped>\n",
       "    .dataframe tbody tr th:only-of-type {\n",
       "        vertical-align: middle;\n",
       "    }\n",
       "\n",
       "    .dataframe tbody tr th {\n",
       "        vertical-align: top;\n",
       "    }\n",
       "\n",
       "    .dataframe thead th {\n",
       "        text-align: right;\n",
       "    }\n",
       "</style>\n",
       "<table border=\"1\" class=\"dataframe\">\n",
       "  <thead>\n",
       "    <tr style=\"text-align: right;\">\n",
       "      <th></th>\n",
       "      <th>cd_tipo_embarque</th>\n",
       "      <th>tx_movimento</th>\n",
       "      <th>cod_bilh</th>\n",
       "      <th>cd_tipo_lancamento_fk</th>\n",
       "      <th>tx_lancamento</th>\n",
       "    </tr>\n",
       "  </thead>\n",
       "  <tbody>\n",
       "    <tr>\n",
       "      <th>0</th>\n",
       "      <td>18</td>\n",
       "      <td>Idoso - Bilhete Único - Normal</td>\n",
       "      <td>2530</td>\n",
       "      <td>1</td>\n",
       "      <td>GRATUIDADE - BLOQUEIO</td>\n",
       "    </tr>\n",
       "    <tr>\n",
       "      <th>1</th>\n",
       "      <td>19</td>\n",
       "      <td>Deficiente - Bilhete Único com Acompanhante</td>\n",
       "      <td>2540</td>\n",
       "      <td>1</td>\n",
       "      <td>GRATUIDADE - BLOQUEIO</td>\n",
       "    </tr>\n",
       "    <tr>\n",
       "      <th>2</th>\n",
       "      <td>20</td>\n",
       "      <td>Deficiente - Bilhete Único sem Acompanhante</td>\n",
       "      <td>2650</td>\n",
       "      <td>1</td>\n",
       "      <td>GRATUIDADE - BLOQUEIO</td>\n",
       "    </tr>\n",
       "    <tr>\n",
       "      <th>3</th>\n",
       "      <td>37</td>\n",
       "      <td>Idoso Bloqueio - Bilhete Único</td>\n",
       "      <td>2780</td>\n",
       "      <td>1</td>\n",
       "      <td>GRATUIDADE - BLOQUEIO</td>\n",
       "    </tr>\n",
       "    <tr>\n",
       "      <th>4</th>\n",
       "      <td>38</td>\n",
       "      <td>Desempregado Bloqueio - Bilhete Único</td>\n",
       "      <td>2790</td>\n",
       "      <td>1</td>\n",
       "      <td>GRATUIDADE - BLOQUEIO</td>\n",
       "    </tr>\n",
       "  </tbody>\n",
       "</table>\n",
       "</div>"
      ],
      "text/plain": [
       "   cd_tipo_embarque                                 tx_movimento  cod_bilh  \\\n",
       "0                18               Idoso - Bilhete Único - Normal      2530   \n",
       "1                19  Deficiente - Bilhete Único com Acompanhante      2540   \n",
       "2                20  Deficiente - Bilhete Único sem Acompanhante      2650   \n",
       "3                37               Idoso Bloqueio - Bilhete Único      2780   \n",
       "4                38        Desempregado Bloqueio - Bilhete Único      2790   \n",
       "\n",
       "   cd_tipo_lancamento_fk          tx_lancamento  \n",
       "0                      1  GRATUIDADE - BLOQUEIO  \n",
       "1                      1  GRATUIDADE - BLOQUEIO  \n",
       "2                      1  GRATUIDADE - BLOQUEIO  \n",
       "3                      1  GRATUIDADE - BLOQUEIO  \n",
       "4                      1  GRATUIDADE - BLOQUEIO  "
      ]
     },
     "execution_count": 22,
     "metadata": {},
     "output_type": "execute_result"
    }
   ],
   "source": [
    "df.head()"
   ]
  },
  {
   "cell_type": "code",
   "execution_count": 23,
   "metadata": {},
   "outputs": [
    {
     "data": {
      "text/plain": [
       "cd_tipo_embarque\n",
       "18     1\n",
       "126    1\n",
       "115    1\n",
       "121    1\n",
       "122    1\n",
       "      ..\n",
       "51     1\n",
       "50     1\n",
       "49     1\n",
       "48     1\n",
       "58     1\n",
       "Name: count, Length: 102, dtype: int64"
      ]
     },
     "execution_count": 23,
     "metadata": {},
     "output_type": "execute_result"
    }
   ],
   "source": [
    "# Contagem da frequência de cada tipo de embarque\n",
    "df['cd_tipo_embarque'].value_counts()"
   ]
  },
  {
   "cell_type": "code",
   "execution_count": 24,
   "metadata": {},
   "outputs": [
    {
     "data": {
      "text/html": [
       "<div>\n",
       "<style scoped>\n",
       "    .dataframe tbody tr th:only-of-type {\n",
       "        vertical-align: middle;\n",
       "    }\n",
       "\n",
       "    .dataframe tbody tr th {\n",
       "        vertical-align: top;\n",
       "    }\n",
       "\n",
       "    .dataframe thead th {\n",
       "        text-align: right;\n",
       "    }\n",
       "</style>\n",
       "<table border=\"1\" class=\"dataframe\">\n",
       "  <thead>\n",
       "    <tr style=\"text-align: right;\">\n",
       "      <th></th>\n",
       "      <th>tx_movimento</th>\n",
       "      <th>tx_lancamento</th>\n",
       "      <th>counts</th>\n",
       "    </tr>\n",
       "  </thead>\n",
       "  <tbody>\n",
       "    <tr>\n",
       "      <th>0</th>\n",
       "      <td>Bilhete BOM para Testes</td>\n",
       "      <td>ACESSO LOCAL</td>\n",
       "      <td>1</td>\n",
       "    </tr>\n",
       "    <tr>\n",
       "      <th>1</th>\n",
       "      <td>Bilhete Comum - BOM - Integração</td>\n",
       "      <td>PAGANTE</td>\n",
       "      <td>1</td>\n",
       "    </tr>\n",
       "    <tr>\n",
       "      <th>2</th>\n",
       "      <td>Bilhete Comum - BOM - Normal</td>\n",
       "      <td>PAGANTE</td>\n",
       "      <td>1</td>\n",
       "    </tr>\n",
       "    <tr>\n",
       "      <th>3</th>\n",
       "      <td>Bilhete Comum - BUD Diário - Integração</td>\n",
       "      <td>PAGANTE</td>\n",
       "      <td>1</td>\n",
       "    </tr>\n",
       "    <tr>\n",
       "      <th>4</th>\n",
       "      <td>Bilhete Comum - BUD Diário - Trilhos</td>\n",
       "      <td>PAGANTE</td>\n",
       "      <td>1</td>\n",
       "    </tr>\n",
       "    <tr>\n",
       "      <th>...</th>\n",
       "      <td>...</td>\n",
       "      <td>...</td>\n",
       "      <td>...</td>\n",
       "    </tr>\n",
       "    <tr>\n",
       "      <th>97</th>\n",
       "      <td>Vale Transporte - Bilhete Único - Normal</td>\n",
       "      <td>PAGANTE</td>\n",
       "      <td>1</td>\n",
       "    </tr>\n",
       "    <tr>\n",
       "      <th>98</th>\n",
       "      <td>Vale Transporte - SIM - Integração</td>\n",
       "      <td>PAGANTE</td>\n",
       "      <td>1</td>\n",
       "    </tr>\n",
       "    <tr>\n",
       "      <th>99</th>\n",
       "      <td>Vale Transporte - SIM - Normal</td>\n",
       "      <td>PAGANTE</td>\n",
       "      <td>1</td>\n",
       "    </tr>\n",
       "    <tr>\n",
       "      <th>100</th>\n",
       "      <td>Vale Transporte - TOP - Integração</td>\n",
       "      <td>PAGANTE</td>\n",
       "      <td>1</td>\n",
       "    </tr>\n",
       "    <tr>\n",
       "      <th>101</th>\n",
       "      <td>Vale Transporte - TOP - Normal</td>\n",
       "      <td>PAGANTE</td>\n",
       "      <td>1</td>\n",
       "    </tr>\n",
       "  </tbody>\n",
       "</table>\n",
       "<p>102 rows × 3 columns</p>\n",
       "</div>"
      ],
      "text/plain": [
       "                                 tx_movimento tx_lancamento  counts\n",
       "0                     Bilhete BOM para Testes  ACESSO LOCAL       1\n",
       "1            Bilhete Comum - BOM - Integração       PAGANTE       1\n",
       "2                Bilhete Comum - BOM - Normal       PAGANTE       1\n",
       "3     Bilhete Comum - BUD Diário - Integração       PAGANTE       1\n",
       "4        Bilhete Comum - BUD Diário - Trilhos       PAGANTE       1\n",
       "..                                        ...           ...     ...\n",
       "97   Vale Transporte - Bilhete Único - Normal       PAGANTE       1\n",
       "98         Vale Transporte - SIM - Integração       PAGANTE       1\n",
       "99             Vale Transporte - SIM - Normal       PAGANTE       1\n",
       "100        Vale Transporte - TOP - Integração       PAGANTE       1\n",
       "101            Vale Transporte - TOP - Normal       PAGANTE       1\n",
       "\n",
       "[102 rows x 3 columns]"
      ]
     },
     "execution_count": 24,
     "metadata": {},
     "output_type": "execute_result"
    }
   ],
   "source": [
    "df.groupby(['tx_movimento', 'tx_lancamento']).size().reset_index(name='counts')"
   ]
  },
  {
   "cell_type": "code",
   "execution_count": 25,
   "metadata": {},
   "outputs": [
    {
     "name": "stdout",
     "output_type": "stream",
     "text": [
      "<class 'pandas.core.frame.DataFrame'>\n",
      "RangeIndex: 102 entries, 0 to 101\n",
      "Data columns (total 5 columns):\n",
      " #   Column                 Non-Null Count  Dtype \n",
      "---  ------                 --------------  ----- \n",
      " 0   cd_tipo_embarque       102 non-null    int64 \n",
      " 1   tx_movimento           102 non-null    object\n",
      " 2   cod_bilh               102 non-null    int64 \n",
      " 3   cd_tipo_lancamento_fk  102 non-null    int64 \n",
      " 4   tx_lancamento          102 non-null    object\n",
      "dtypes: int64(3), object(2)\n",
      "memory usage: 4.1+ KB\n"
     ]
    }
   ],
   "source": [
    "df.info()"
   ]
  },
  {
   "cell_type": "code",
   "execution_count": 26,
   "metadata": {},
   "outputs": [
    {
     "data": {
      "text/html": [
       "<div>\n",
       "<style scoped>\n",
       "    .dataframe tbody tr th:only-of-type {\n",
       "        vertical-align: middle;\n",
       "    }\n",
       "\n",
       "    .dataframe tbody tr th {\n",
       "        vertical-align: top;\n",
       "    }\n",
       "\n",
       "    .dataframe thead th {\n",
       "        text-align: right;\n",
       "    }\n",
       "</style>\n",
       "<table border=\"1\" class=\"dataframe\">\n",
       "  <thead>\n",
       "    <tr style=\"text-align: right;\">\n",
       "      <th></th>\n",
       "      <th>cd_tipo_embarque</th>\n",
       "      <th>cod_bilh</th>\n",
       "      <th>cd_tipo_lancamento_fk</th>\n",
       "    </tr>\n",
       "  </thead>\n",
       "  <tbody>\n",
       "    <tr>\n",
       "      <th>count</th>\n",
       "      <td>102.000000</td>\n",
       "      <td>102.000000</td>\n",
       "      <td>102.000000</td>\n",
       "    </tr>\n",
       "    <tr>\n",
       "      <th>mean</th>\n",
       "      <td>76.500000</td>\n",
       "      <td>28269.058824</td>\n",
       "      <td>3.637255</td>\n",
       "    </tr>\n",
       "    <tr>\n",
       "      <th>std</th>\n",
       "      <td>38.276418</td>\n",
       "      <td>35685.342891</td>\n",
       "      <td>3.020685</td>\n",
       "    </tr>\n",
       "    <tr>\n",
       "      <th>min</th>\n",
       "      <td>16.000000</td>\n",
       "      <td>1.000000</td>\n",
       "      <td>1.000000</td>\n",
       "    </tr>\n",
       "    <tr>\n",
       "      <th>25%</th>\n",
       "      <td>43.500000</td>\n",
       "      <td>3100.250000</td>\n",
       "      <td>2.000000</td>\n",
       "    </tr>\n",
       "    <tr>\n",
       "      <th>50%</th>\n",
       "      <td>76.500000</td>\n",
       "      <td>8500.500000</td>\n",
       "      <td>2.000000</td>\n",
       "    </tr>\n",
       "    <tr>\n",
       "      <th>75%</th>\n",
       "      <td>104.750000</td>\n",
       "      <td>38140.000000</td>\n",
       "      <td>8.000000</td>\n",
       "    </tr>\n",
       "    <tr>\n",
       "      <th>max</th>\n",
       "      <td>161.000000</td>\n",
       "      <td>98000.000000</td>\n",
       "      <td>11.000000</td>\n",
       "    </tr>\n",
       "  </tbody>\n",
       "</table>\n",
       "</div>"
      ],
      "text/plain": [
       "       cd_tipo_embarque      cod_bilh  cd_tipo_lancamento_fk\n",
       "count        102.000000    102.000000             102.000000\n",
       "mean          76.500000  28269.058824               3.637255\n",
       "std           38.276418  35685.342891               3.020685\n",
       "min           16.000000      1.000000               1.000000\n",
       "25%           43.500000   3100.250000               2.000000\n",
       "50%           76.500000   8500.500000               2.000000\n",
       "75%          104.750000  38140.000000               8.000000\n",
       "max          161.000000  98000.000000              11.000000"
      ]
     },
     "execution_count": 26,
     "metadata": {},
     "output_type": "execute_result"
    }
   ],
   "source": [
    "df.describe()"
   ]
  },
  {
   "cell_type": "code",
   "execution_count": 27,
   "metadata": {},
   "outputs": [
    {
     "data": {
      "text/plain": [
       "cd_tipo_embarque         0\n",
       "tx_movimento             0\n",
       "cod_bilh                 0\n",
       "cd_tipo_lancamento_fk    0\n",
       "tx_lancamento            0\n",
       "dtype: int64"
      ]
     },
     "execution_count": 27,
     "metadata": {},
     "output_type": "execute_result"
    }
   ],
   "source": [
    "df.isnull().sum()"
   ]
  },
  {
   "cell_type": "code",
   "execution_count": 28,
   "metadata": {},
   "outputs": [
    {
     "name": "stdout",
     "output_type": "stream",
     "text": [
      "Removidas 0 duplicatas.\n"
     ]
    }
   ],
   "source": [
    "# Obter a forma inicial do DataFrame\n",
    "initial_shape = df.shape\n",
    "\n",
    "# Remover duplicatas\n",
    "df = df.drop_duplicates()\n",
    "\n",
    "# Obter a forma final após remover duplicatas\n",
    "final_shape = df.shape\n",
    "\n",
    "# Exibir quantas duplicatas foram removidas\n",
    "print(f\"Removidas {initial_shape[0] - final_shape[0]} duplicatas.\")"
   ]
  },
  {
   "cell_type": "code",
   "execution_count": 29,
   "metadata": {},
   "outputs": [
    {
     "name": "stdout",
     "output_type": "stream",
     "text": [
      "--- Estatísticas Descritivas de      cd_tipo_embarque                                 tx_movimento  cod_bilh  \\\n",
      "0                  18               Idoso - Bilhete Único - Normal      2530   \n",
      "1                  19  Deficiente - Bilhete Único com Acompanhante      2540   \n",
      "2                  20  Deficiente - Bilhete Único sem Acompanhante      2650   \n",
      "3                  37               Idoso Bloqueio - Bilhete Único      2780   \n",
      "4                  38        Desempregado Bloqueio - Bilhete Único      2790   \n",
      "..                ...                                          ...       ...   \n",
      "97                127    Bilhete Serviço - Bilhete Autopass - CPTM     28030   \n",
      "98                 32      Bilhete Serviço - Bilhete Único - METRO      2720   \n",
      "99                 21       Bilhete Serviço - Bilhete Único - CPTM      2730   \n",
      "100                59                      Bilhete BOM para Testes     18020   \n",
      "101                58                    Bilhete para Acesso Local      2732   \n",
      "\n",
      "     cd_tipo_lancamento_fk          tx_lancamento  \n",
      "0                        1  GRATUIDADE - BLOQUEIO  \n",
      "1                        1  GRATUIDADE - BLOQUEIO  \n",
      "2                        1  GRATUIDADE - BLOQUEIO  \n",
      "3                        1  GRATUIDADE - BLOQUEIO  \n",
      "4                        1  GRATUIDADE - BLOQUEIO  \n",
      "..                     ...                    ...  \n",
      "97                      10           NAO TARIFADO  \n",
      "98                      10           NAO TARIFADO  \n",
      "99                      10           NAO TARIFADO  \n",
      "100                     11           ACESSO LOCAL  \n",
      "101                     11           ACESSO LOCAL  \n",
      "\n",
      "[102 rows x 5 columns] ---\n"
     ]
    },
    {
     "data": {
      "text/html": [
       "<div>\n",
       "<style scoped>\n",
       "    .dataframe tbody tr th:only-of-type {\n",
       "        vertical-align: middle;\n",
       "    }\n",
       "\n",
       "    .dataframe tbody tr th {\n",
       "        vertical-align: top;\n",
       "    }\n",
       "\n",
       "    .dataframe thead th {\n",
       "        text-align: right;\n",
       "    }\n",
       "</style>\n",
       "<table border=\"1\" class=\"dataframe\">\n",
       "  <thead>\n",
       "    <tr style=\"text-align: right;\">\n",
       "      <th></th>\n",
       "      <th>cd_tipo_embarque</th>\n",
       "      <th>tx_movimento</th>\n",
       "      <th>cod_bilh</th>\n",
       "      <th>cd_tipo_lancamento_fk</th>\n",
       "      <th>tx_lancamento</th>\n",
       "    </tr>\n",
       "  </thead>\n",
       "  <tbody>\n",
       "    <tr>\n",
       "      <th>count</th>\n",
       "      <td>102.000000</td>\n",
       "      <td>102</td>\n",
       "      <td>102.000000</td>\n",
       "      <td>102.000000</td>\n",
       "      <td>102</td>\n",
       "    </tr>\n",
       "    <tr>\n",
       "      <th>unique</th>\n",
       "      <td>NaN</td>\n",
       "      <td>102</td>\n",
       "      <td>NaN</td>\n",
       "      <td>NaN</td>\n",
       "      <td>5</td>\n",
       "    </tr>\n",
       "    <tr>\n",
       "      <th>top</th>\n",
       "      <td>NaN</td>\n",
       "      <td>Idoso - Bilhete Único - Normal</td>\n",
       "      <td>NaN</td>\n",
       "      <td>NaN</td>\n",
       "      <td>PAGANTE</td>\n",
       "    </tr>\n",
       "    <tr>\n",
       "      <th>freq</th>\n",
       "      <td>NaN</td>\n",
       "      <td>1</td>\n",
       "      <td>NaN</td>\n",
       "      <td>NaN</td>\n",
       "      <td>61</td>\n",
       "    </tr>\n",
       "    <tr>\n",
       "      <th>mean</th>\n",
       "      <td>76.500000</td>\n",
       "      <td>NaN</td>\n",
       "      <td>28269.058824</td>\n",
       "      <td>3.637255</td>\n",
       "      <td>NaN</td>\n",
       "    </tr>\n",
       "    <tr>\n",
       "      <th>std</th>\n",
       "      <td>38.276418</td>\n",
       "      <td>NaN</td>\n",
       "      <td>35685.342891</td>\n",
       "      <td>3.020685</td>\n",
       "      <td>NaN</td>\n",
       "    </tr>\n",
       "    <tr>\n",
       "      <th>min</th>\n",
       "      <td>16.000000</td>\n",
       "      <td>NaN</td>\n",
       "      <td>1.000000</td>\n",
       "      <td>1.000000</td>\n",
       "      <td>NaN</td>\n",
       "    </tr>\n",
       "    <tr>\n",
       "      <th>25%</th>\n",
       "      <td>43.500000</td>\n",
       "      <td>NaN</td>\n",
       "      <td>3100.250000</td>\n",
       "      <td>2.000000</td>\n",
       "      <td>NaN</td>\n",
       "    </tr>\n",
       "    <tr>\n",
       "      <th>50%</th>\n",
       "      <td>76.500000</td>\n",
       "      <td>NaN</td>\n",
       "      <td>8500.500000</td>\n",
       "      <td>2.000000</td>\n",
       "      <td>NaN</td>\n",
       "    </tr>\n",
       "    <tr>\n",
       "      <th>75%</th>\n",
       "      <td>104.750000</td>\n",
       "      <td>NaN</td>\n",
       "      <td>38140.000000</td>\n",
       "      <td>8.000000</td>\n",
       "      <td>NaN</td>\n",
       "    </tr>\n",
       "    <tr>\n",
       "      <th>max</th>\n",
       "      <td>161.000000</td>\n",
       "      <td>NaN</td>\n",
       "      <td>98000.000000</td>\n",
       "      <td>11.000000</td>\n",
       "      <td>NaN</td>\n",
       "    </tr>\n",
       "  </tbody>\n",
       "</table>\n",
       "</div>"
      ],
      "text/plain": [
       "        cd_tipo_embarque                    tx_movimento      cod_bilh  \\\n",
       "count         102.000000                             102    102.000000   \n",
       "unique               NaN                             102           NaN   \n",
       "top                  NaN  Idoso - Bilhete Único - Normal           NaN   \n",
       "freq                 NaN                               1           NaN   \n",
       "mean           76.500000                             NaN  28269.058824   \n",
       "std            38.276418                             NaN  35685.342891   \n",
       "min            16.000000                             NaN      1.000000   \n",
       "25%            43.500000                             NaN   3100.250000   \n",
       "50%            76.500000                             NaN   8500.500000   \n",
       "75%           104.750000                             NaN  38140.000000   \n",
       "max           161.000000                             NaN  98000.000000   \n",
       "\n",
       "        cd_tipo_lancamento_fk tx_lancamento  \n",
       "count              102.000000           102  \n",
       "unique                    NaN             5  \n",
       "top                       NaN       PAGANTE  \n",
       "freq                      NaN            61  \n",
       "mean                 3.637255           NaN  \n",
       "std                  3.020685           NaN  \n",
       "min                  1.000000           NaN  \n",
       "25%                  2.000000           NaN  \n",
       "50%                  2.000000           NaN  \n",
       "75%                  8.000000           NaN  \n",
       "max                 11.000000           NaN  "
      ]
     },
     "metadata": {},
     "output_type": "display_data"
    },
    {
     "name": "stdout",
     "output_type": "stream",
     "text": [
      "\\n\n"
     ]
    }
   ],
   "source": [
    "print(f\"--- Estatísticas Descritivas de {df} ---\")\n",
    "display(df.describe(include='all'))\n",
    "print(\"\\\\n\")"
   ]
  },
  {
   "cell_type": "code",
   "execution_count": 30,
   "metadata": {},
   "outputs": [
    {
     "name": "stdout",
     "output_type": "stream",
     "text": [
      "--- Distribuições de Variáveis no DataFrame ---\n"
     ]
    },
    {
     "data": {
      "image/png": "[encoded data removed]",
      "text/plain": [
       "<Figure size 800x400 with 1 Axes>"
      ]
     },
     "metadata": {},
     "output_type": "display_data"
    },
    {
     "data": {
      "image/png": "[encoded data removed]",
      "text/plain": [
       "<Figure size 800x400 with 1 Axes>"
      ]
     },
     "metadata": {},
     "output_type": "display_data"
    },
    {
     "data": {
      "image/png": "[encoded data removed]",
      "text/plain": [
       "<Figure size 800x400 with 1 Axes>"
      ]
     },
     "metadata": {},
     "output_type": "display_data"
    }
   ],
   "source": [
    "# Exibir as distribuições das variáveis numéricas no DataFrame df\n",
    "print(f\"--- Distribuições de Variáveis no DataFrame ---\")\n",
    "for column in df.select_dtypes(include=[np.number]).columns:\n",
    "    plt.figure(figsize=(8, 4))\n",
    "    sns.histplot(df[column].dropna(), kde=True)\n",
    "    plt.title(f'Distribuição de {column}')\n",
    "    plt.show()"
   ]
  },
  {
   "cell_type": "code",
   "execution_count": 31,
   "metadata": {},
   "outputs": [
    {
     "data": {
      "image/png": "[encoded data removed]",
      "text/plain": [
       "<Figure size 1000x800 with 2 Axes>"
      ]
     },
     "metadata": {},
     "output_type": "display_data"
    }
   ],
   "source": [
    "# Selecionar apenas colunas numéricas para calcular a matriz de correlação\n",
    "numeric_df = df.select_dtypes(include=[np.number])\n",
    "\n",
    "# Verificar se há colunas numéricas suficientes para gerar a matriz de correlação\n",
    "if numeric_df.shape[1] > 1:\n",
    "    plt.figure(figsize=(10, 8))\n",
    "    corr = numeric_df.corr()\n",
    "    sns.heatmap(corr, annot=True, fmt=\".2f\", cmap='coolwarm')\n",
    "    plt.title('Matriz de Correlação')\n",
    "    plt.show()\n",
    "else:\n",
    "    print(\"Não há colunas numéricas suficientes para calcular a correlação.\")"
   ]
  },
  {
   "cell_type": "code",
   "execution_count": 32,
   "metadata": {},
   "outputs": [
    {
     "data": {
      "text/html": [
       "<pre style=\"white-space:pre;overflow-x:auto;line-height:normal;font-family:Menlo,'DejaVu Sans Mono',consolas,'Courier New',monospace\">╭──────────────────────────────────────────────── skimpy summary ─────────────────────────────────────────────────╮\n",
       "│ <span style=\"font-style: italic\">         Data Summary         </span> <span style=\"font-style: italic\">      Data Types       </span>                                                          │\n",
       "│ ┏━━━━━━━━━━━━━━━━━━━┳━━━━━━━━┓ ┏━━━━━━━━━━━━━┳━━━━━━━┓                                                          │\n",
       "│ ┃<span style=\"color: #008080; text-decoration-color: #008080; font-weight: bold\"> dataframe         </span>┃<span style=\"color: #008080; text-decoration-color: #008080; font-weight: bold\"> Values </span>┃ ┃<span style=\"color: #008080; text-decoration-color: #008080; font-weight: bold\"> Column Type </span>┃<span style=\"color: #008080; text-decoration-color: #008080; font-weight: bold\"> Count </span>┃                                                          │\n",
       "│ ┡━━━━━━━━━━━━━━━━━━━╇━━━━━━━━┩ ┡━━━━━━━━━━━━━╇━━━━━━━┩                                                          │\n",
       "│ │ Number of rows    │ 102    │ │ int32       │ 3     │                                                          │\n",
       "│ │ Number of columns │ 5      │ │ string      │ 2     │                                                          │\n",
       "│ └───────────────────┴────────┘ └─────────────┴───────┘                                                          │\n",
       "│ <span style=\"font-style: italic\">                                                    number                                                    </span>  │\n",
       "│ ┏━━━━━━━━━━━━━━━━━━━━━━━━━━┳━━━━━┳━━━━━━━┳━━━━━━━━━┳━━━━━━━━┳━━━━━┳━━━━━━━┳━━━━━━━┳━━━━━━━━┳━━━━━━━━┳━━━━━━━━┓  │\n",
       "│ ┃<span style=\"font-weight: bold\"> column_name              </span>┃<span style=\"font-weight: bold\"> NA  </span>┃<span style=\"font-weight: bold\"> NA %  </span>┃<span style=\"font-weight: bold\"> mean    </span>┃<span style=\"font-weight: bold\"> sd     </span>┃<span style=\"font-weight: bold\"> p0  </span>┃<span style=\"font-weight: bold\"> p25   </span>┃<span style=\"font-weight: bold\"> p50   </span>┃<span style=\"font-weight: bold\"> p75    </span>┃<span style=\"font-weight: bold\"> p100   </span>┃<span style=\"font-weight: bold\"> hist   </span>┃  │\n",
       "│ ┡━━━━━━━━━━━━━━━━━━━━━━━━━━╇━━━━━╇━━━━━━━╇━━━━━━━━━╇━━━━━━━━╇━━━━━╇━━━━━━━╇━━━━━━━╇━━━━━━━━╇━━━━━━━━╇━━━━━━━━┩  │\n",
       "│ │ <span style=\"color: #af87ff; text-decoration-color: #af87ff\">cd_tipo_embarque        </span> │ <span style=\"color: #008080; text-decoration-color: #008080\">  0</span> │ <span style=\"color: #008080; text-decoration-color: #008080\">    0</span> │ <span style=\"color: #008080; text-decoration-color: #008080\">   76.5</span> │ <span style=\"color: #008080; text-decoration-color: #008080\"> 38.28</span> │ <span style=\"color: #008080; text-decoration-color: #008080\"> 16</span> │ <span style=\"color: #008080; text-decoration-color: #008080\"> 43.5</span> │ <span style=\"color: #008080; text-decoration-color: #008080\"> 76.5</span> │ <span style=\"color: #008080; text-decoration-color: #008080\"> 104.8</span> │ <span style=\"color: #008080; text-decoration-color: #008080\">   161</span> │ <span style=\"color: #008000; text-decoration-color: #008000\">▇▇▇▇▅▂</span> │  │\n",
       "│ │ <span style=\"color: #af87ff; text-decoration-color: #af87ff\">cod_bilh                </span> │ <span style=\"color: #008080; text-decoration-color: #008080\">  0</span> │ <span style=\"color: #008080; text-decoration-color: #008080\">    0</span> │ <span style=\"color: #008080; text-decoration-color: #008080\">  28270</span> │ <span style=\"color: #008080; text-decoration-color: #008080\"> 35690</span> │ <span style=\"color: #008080; text-decoration-color: #008080\">  1</span> │ <span style=\"color: #008080; text-decoration-color: #008080\"> 3100</span> │ <span style=\"color: #008080; text-decoration-color: #008080\"> 8500</span> │ <span style=\"color: #008080; text-decoration-color: #008080\"> 38140</span> │ <span style=\"color: #008080; text-decoration-color: #008080\"> 98000</span> │ <span style=\"color: #008000; text-decoration-color: #008000\">▇▁   ▃</span> │  │\n",
       "│ │ <span style=\"color: #af87ff; text-decoration-color: #af87ff\">cd_tipo_lancamento_fk   </span> │ <span style=\"color: #008080; text-decoration-color: #008080\">  0</span> │ <span style=\"color: #008080; text-decoration-color: #008080\">    0</span> │ <span style=\"color: #008080; text-decoration-color: #008080\">  3.637</span> │ <span style=\"color: #008080; text-decoration-color: #008080\"> 3.021</span> │ <span style=\"color: #008080; text-decoration-color: #008080\">  1</span> │ <span style=\"color: #008080; text-decoration-color: #008080\">    2</span> │ <span style=\"color: #008080; text-decoration-color: #008080\">    2</span> │ <span style=\"color: #008080; text-decoration-color: #008080\">     8</span> │ <span style=\"color: #008080; text-decoration-color: #008080\">    11</span> │ <span style=\"color: #008000; text-decoration-color: #008000\">▇   ▂▁</span> │  │\n",
       "│ └──────────────────────────┴─────┴───────┴─────────┴────────┴─────┴───────┴───────┴────────┴────────┴────────┘  │\n",
       "│ <span style=\"font-style: italic\">                                                    string                                                    </span>  │\n",
       "│ ┏━━━━━━━━━━━━━━━━━━━━━━━━━━━━━━┳━━━━━━━━┳━━━━━━━━━━━━┳━━━━━━━━━━━━━━━━━━━━━━━━━━━━━┳━━━━━━━━━━━━━━━━━━━━━━━━━┓  │\n",
       "│ ┃<span style=\"font-weight: bold\"> column_name                  </span>┃<span style=\"font-weight: bold\"> NA     </span>┃<span style=\"font-weight: bold\"> NA %       </span>┃<span style=\"font-weight: bold\"> words per row               </span>┃<span style=\"font-weight: bold\"> total words             </span>┃  │\n",
       "│ ┡━━━━━━━━━━━━━━━━━━━━━━━━━━━━━━╇━━━━━━━━╇━━━━━━━━━━━━╇━━━━━━━━━━━━━━━━━━━━━━━━━━━━━╇━━━━━━━━━━━━━━━━━━━━━━━━━┩  │\n",
       "│ │ <span style=\"color: #af87ff; text-decoration-color: #af87ff\">tx_movimento                </span> │ <span style=\"color: #008080; text-decoration-color: #008080\">     0</span> │ <span style=\"color: #008080; text-decoration-color: #008080\">         0</span> │ <span style=\"color: #008080; text-decoration-color: #008080\">                        5.5</span> │ <span style=\"color: #008080; text-decoration-color: #008080\">                    558</span> │  │\n",
       "│ │ <span style=\"color: #af87ff; text-decoration-color: #af87ff\">tx_lancamento               </span> │ <span style=\"color: #008080; text-decoration-color: #008080\">     0</span> │ <span style=\"color: #008080; text-decoration-color: #008080\">         0</span> │ <span style=\"color: #008080; text-decoration-color: #008080\">                        1.3</span> │ <span style=\"color: #008080; text-decoration-color: #008080\">                    133</span> │  │\n",
       "│ └──────────────────────────────┴────────┴────────────┴─────────────────────────────┴─────────────────────────┘  │\n",
       "╰────────────────────────────────────────────────────── End ──────────────────────────────────────────────────────╯\n",
       "</pre>\n"
      ],
      "text/plain": [
       "╭──────────────────────────────────────────────── skimpy summary ─────────────────────────────────────────────────╮\n",
       "│ \u001b[3m         Data Summary         \u001b[0m \u001b[3m      Data Types       \u001b[0m                                                          │\n",
       "│ ┏━━━━━━━━━━━━━━━━━━━┳━━━━━━━━┓ ┏━━━━━━━━━━━━━┳━━━━━━━┓                                                          │\n",
       "│ ┃\u001b[1;36m \u001b[0m\u001b[1;36mdataframe        \u001b[0m\u001b[1;36m \u001b[0m┃\u001b[1;36m \u001b[0m\u001b[1;36mValues\u001b[0m\u001b[1;36m \u001b[0m┃ ┃\u001b[1;36m \u001b[0m\u001b[1;36mColumn Type\u001b[0m\u001b[1;36m \u001b[0m┃\u001b[1;36m \u001b[0m\u001b[1;36mCount\u001b[0m\u001b[1;36m \u001b[0m┃                                                          │\n",
       "│ ┡━━━━━━━━━━━━━━━━━━━╇━━━━━━━━┩ ┡━━━━━━━━━━━━━╇━━━━━━━┩                                                          │\n",
       "│ │ Number of rows    │ 102    │ │ int32       │ 3     │                                                          │\n",
       "│ │ Number of columns │ 5      │ │ string      │ 2     │                                                          │\n",
       "│ └───────────────────┴────────┘ └─────────────┴───────┘                                                          │\n",
       "│ \u001b[3m                                                    number                                                    \u001b[0m  │\n",
       "│ ┏━━━━━━━━━━━━━━━━━━━━━━━━━━┳━━━━━┳━━━━━━━┳━━━━━━━━━┳━━━━━━━━┳━━━━━┳━━━━━━━┳━━━━━━━┳━━━━━━━━┳━━━━━━━━┳━━━━━━━━┓  │\n",
       "│ ┃\u001b[1m \u001b[0m\u001b[1mcolumn_name             \u001b[0m\u001b[1m \u001b[0m┃\u001b[1m \u001b[0m\u001b[1mNA \u001b[0m\u001b[1m \u001b[0m┃\u001b[1m \u001b[0m\u001b[1mNA % \u001b[0m\u001b[1m \u001b[0m┃\u001b[1m \u001b[0m\u001b[1mmean   \u001b[0m\u001b[1m \u001b[0m┃\u001b[1m \u001b[0m\u001b[1msd    \u001b[0m\u001b[1m \u001b[0m┃\u001b[1m \u001b[0m\u001b[1mp0 \u001b[0m\u001b[1m \u001b[0m┃\u001b[1m \u001b[0m\u001b[1mp25  \u001b[0m\u001b[1m \u001b[0m┃\u001b[1m \u001b[0m\u001b[1mp50  \u001b[0m\u001b[1m \u001b[0m┃\u001b[1m \u001b[0m\u001b[1mp75   \u001b[0m\u001b[1m \u001b[0m┃\u001b[1m \u001b[0m\u001b[1mp100  \u001b[0m\u001b[1m \u001b[0m┃\u001b[1m \u001b[0m\u001b[1mhist  \u001b[0m\u001b[1m \u001b[0m┃  │\n",
       "│ ┡━━━━━━━━━━━━━━━━━━━━━━━━━━╇━━━━━╇━━━━━━━╇━━━━━━━━━╇━━━━━━━━╇━━━━━╇━━━━━━━╇━━━━━━━╇━━━━━━━━╇━━━━━━━━╇━━━━━━━━┩  │\n",
       "│ │ \u001b[38;5;141mcd_tipo_embarque        \u001b[0m │ \u001b[36m  0\u001b[0m │ \u001b[36m    0\u001b[0m │ \u001b[36m   76.5\u001b[0m │ \u001b[36m 38.28\u001b[0m │ \u001b[36m 16\u001b[0m │ \u001b[36m 43.5\u001b[0m │ \u001b[36m 76.5\u001b[0m │ \u001b[36m 104.8\u001b[0m │ \u001b[36m   161\u001b[0m │ \u001b[32m▇▇▇▇▅▂\u001b[0m │  │\n",
       "│ │ \u001b[38;5;141mcod_bilh                \u001b[0m │ \u001b[36m  0\u001b[0m │ \u001b[36m    0\u001b[0m │ \u001b[36m  28270\u001b[0m │ \u001b[36m 35690\u001b[0m │ \u001b[36m  1\u001b[0m │ \u001b[36m 3100\u001b[0m │ \u001b[36m 8500\u001b[0m │ \u001b[36m 38140\u001b[0m │ \u001b[36m 98000\u001b[0m │ \u001b[32m▇▁   ▃\u001b[0m │  │\n",
       "│ │ \u001b[38;5;141mcd_tipo_lancamento_fk   \u001b[0m │ \u001b[36m  0\u001b[0m │ \u001b[36m    0\u001b[0m │ \u001b[36m  3.637\u001b[0m │ \u001b[36m 3.021\u001b[0m │ \u001b[36m  1\u001b[0m │ \u001b[36m    2\u001b[0m │ \u001b[36m    2\u001b[0m │ \u001b[36m     8\u001b[0m │ \u001b[36m    11\u001b[0m │ \u001b[32m▇   ▂▁\u001b[0m │  │\n",
       "│ └──────────────────────────┴─────┴───────┴─────────┴────────┴─────┴───────┴───────┴────────┴────────┴────────┘  │\n",
       "│ \u001b[3m                                                    string                                                    \u001b[0m  │\n",
       "│ ┏━━━━━━━━━━━━━━━━━━━━━━━━━━━━━━┳━━━━━━━━┳━━━━━━━━━━━━┳━━━━━━━━━━━━━━━━━━━━━━━━━━━━━┳━━━━━━━━━━━━━━━━━━━━━━━━━┓  │\n",
       "│ ┃\u001b[1m \u001b[0m\u001b[1mcolumn_name                 \u001b[0m\u001b[1m \u001b[0m┃\u001b[1m \u001b[0m\u001b[1mNA    \u001b[0m\u001b[1m \u001b[0m┃\u001b[1m \u001b[0m\u001b[1mNA %      \u001b[0m\u001b[1m \u001b[0m┃\u001b[1m \u001b[0m\u001b[1mwords per row              \u001b[0m\u001b[1m \u001b[0m┃\u001b[1m \u001b[0m\u001b[1mtotal words            \u001b[0m\u001b[1m \u001b[0m┃  │\n",
       "│ ┡━━━━━━━━━━━━━━━━━━━━━━━━━━━━━━╇━━━━━━━━╇━━━━━━━━━━━━╇━━━━━━━━━━━━━━━━━━━━━━━━━━━━━╇━━━━━━━━━━━━━━━━━━━━━━━━━┩  │\n",
       "│ │ \u001b[38;5;141mtx_movimento                \u001b[0m │ \u001b[36m     0\u001b[0m │ \u001b[36m         0\u001b[0m │ \u001b[36m                        5.5\u001b[0m │ \u001b[36m                    558\u001b[0m │  │\n",
       "│ │ \u001b[38;5;141mtx_lancamento               \u001b[0m │ \u001b[36m     0\u001b[0m │ \u001b[36m         0\u001b[0m │ \u001b[36m                        1.3\u001b[0m │ \u001b[36m                    133\u001b[0m │  │\n",
       "│ └──────────────────────────────┴────────┴────────────┴─────────────────────────────┴─────────────────────────┘  │\n",
       "╰────────────────────────────────────────────────────── End ──────────────────────────────────────────────────────╯\n"
      ]
     },
     "metadata": {},
     "output_type": "display_data"
    }
   ],
   "source": [
    "def analisar_dados():\n",
    "    \"\"\"\n",
    "    Faz uma análise resumida do DataFrame.\n",
    "\n",
    "    Usa a função `skim()` para exibir um resumo com estatísticas básicas \n",
    "    e informações sobre os dados do DataFrame.\n",
    "\n",
    "    Exemplo:\n",
    "        skim(df)\n",
    "    \"\"\"\n",
    "    skim(df)\n",
    "\n",
    "analisar_dados()"
   ]
  },
  {
   "cell_type": "code",
   "execution_count": 33,
   "metadata": {},
   "outputs": [
    {
     "name": "stdout",
     "output_type": "stream",
     "text": [
      "PCA realizado no DataFrame:\n",
      "Variância explicada por componente: [0.49041572 0.38489161]\n",
      "\n"
     ]
    }
   ],
   "source": [
    "def realizar_pca(df, n_componentes=2):\n",
    "    \"\"\"\n",
    "    Realiza a Análise de Componentes Principais (PCA) para reduzir a dimensionalidade dos dados.\n",
    "\n",
    "    Args:\n",
    "        df (pd.DataFrame): DataFrame com os dados a serem analisados.\n",
    "        n_componentes (int): Número de componentes principais a serem mantidos.\n",
    "\n",
    "    Returns:\n",
    "        pd.DataFrame: DataFrame com as componentes principais.\n",
    "        PCA: Objeto PCA treinado.\n",
    "    \"\"\"\n",
    "    # Selecionar apenas variáveis numéricas e remover valores ausentes\n",
    "    numeric_df = df.select_dtypes(include=[np.number]).dropna()\n",
    "\n",
    "    # Escalonar os dados\n",
    "    scaler = StandardScaler()\n",
    "    scaled_data = scaler.fit_transform(numeric_df)\n",
    "\n",
    "    # Aplicar PCA\n",
    "    pca = PCA(n_components=n_componentes)\n",
    "    principal_components = pca.fit_transform(scaled_data)\n",
    "\n",
    "    # Criar DataFrame das componentes principais\n",
    "    pca_df = pd.DataFrame(data=principal_components,\n",
    "                          columns=[f'PC{i+1}' for i in range(n_componentes)])\n",
    "\n",
    "    return pca_df, pca\n",
    "\n",
    "# Aplicar PCA no DataFrame df\n",
    "pca_df, pca_modelo = realizar_pca(df)\n",
    "\n",
    "# Exibir os resultados\n",
    "print(f\"PCA realizado no DataFrame:\")\n",
    "print(f\"Variância explicada por componente: {pca_modelo.explained_variance_ratio_}\\n\")"
   ]
  },
  {
   "cell_type": "code",
   "execution_count": 34,
   "metadata": {},
   "outputs": [
    {
     "data": {
      "image/png": "[encoded data removed]",
      "text/plain": [
       "<Figure size 800x600 with 1 Axes>"
      ]
     },
     "metadata": {},
     "output_type": "display_data"
    }
   ],
   "source": [
    "def plot_grafico_cotovelo(df, max_clusters=10):\n",
    "    \"\"\"\n",
    "    Plota o gráfico do cotovelo para identificar o número ideal de clusters.\n",
    "\n",
    "    Args:\n",
    "        df (pd.DataFrame): DataFrame com os dados a serem analisados.\n",
    "        max_clusters (int): Número máximo de clusters a serem testados.\n",
    "\n",
    "    Returns:\n",
    "        None: Exibe o gráfico do cotovelo.\n",
    "    \"\"\"\n",
    "    # Selecionar apenas variáveis numéricas e remover valores ausentes\n",
    "    numeric_df = df.select_dtypes(include=[np.number]).dropna()\n",
    "\n",
    "    # Escalonar os dados\n",
    "    scaler = StandardScaler()\n",
    "    scaled_data = scaler.fit_transform(numeric_df)\n",
    "\n",
    "    # Lista para armazenar a soma das distâncias quadradas dentro dos clusters (inertia)\n",
    "    inertias = []\n",
    "\n",
    "    # Aplicar KMeans com diferentes números de clusters\n",
    "    for k in range(1, max_clusters + 1):\n",
    "        kmeans = KMeans(n_clusters=k, random_state=42)\n",
    "        kmeans.fit(scaled_data)\n",
    "        inertias.append(kmeans.inertia_)\n",
    "\n",
    "    # Plotar o gráfico do cotovelo\n",
    "    plt.figure(figsize=(8, 6))\n",
    "    plt.plot(range(1, max_clusters + 1), inertias, marker='o', linestyle='--')\n",
    "    plt.title('Gráfico do Cotovelo')\n",
    "    plt.xlabel('Número de Clusters')\n",
    "    plt.ylabel('Inertia')\n",
    "    plt.show()\n",
    "\n",
    "# Aplicar o gráfico do cotovelo no DataFrame df\n",
    "plot_grafico_cotovelo(df, max_clusters=10)"
   ]
  },
  {
   "cell_type": "code",
   "execution_count": 35,
   "metadata": {},
   "outputs": [],
   "source": [
    "def realizar_kmeans(df, n_clusters=3):\n",
    "    \"\"\"\n",
    "    Aplica o algoritmo de clustering KMeans para agrupar os dados de um DataFrame.\n",
    "\n",
    "    Args:\n",
    "        df (pd.DataFrame): DataFrame com os dados a serem agrupados.\n",
    "        n_clusters (int): Número de clusters a serem formados (default = 3).\n",
    "\n",
    "    Returns:\n",
    "        KMeans: Modelo KMeans treinado.\n",
    "        np.ndarray: Rótulos dos clusters para cada amostra.\n",
    "    \"\"\"\n",
    "    # Selecionar apenas variáveis numéricas e remover valores ausentes\n",
    "    numeric_df = df.select_dtypes(include=[np.number]).dropna()\n",
    "\n",
    "    # Escalonar os dados\n",
    "    scaler = StandardScaler()\n",
    "    scaled_data = scaler.fit_transform(numeric_df)\n",
    "\n",
    "    # Aplicar KMeans\n",
    "    kmeans = KMeans(n_clusters=n_clusters, random_state=42)\n",
    "    kmeans.fit(scaled_data)\n",
    "    labels = kmeans.labels_\n",
    "\n",
    "    return kmeans, labels, scaled_data\n",
    "\n",
    "# Aplicar KMeans no DataFrame df\n",
    "kmeans_modelo, labels, scaled_data = realizar_kmeans(df, n_clusters=5)"
   ]
  },
  {
   "cell_type": "code",
   "execution_count": 36,
   "metadata": {},
   "outputs": [
    {
     "data": {
      "application/vnd.plotly.v1+json": {
       "config": {
        "plotlyServerURL": "https://plot.ly"
       },
       "data": [
        {
         "hovertemplate": "Cluster=2<br>PC1=%{x}<br>PC2=%{y}<extra></extra>",
         "legendgroup": "2",
         "marker": {
          "color": "#636efa",
          "symbol": "circle"
         },
         "mode": "markers",
         "name": "2",
         "orientation": "v",
         "showlegend": true,
         "type": "scatter",
         "x": [
          -1.3977864064714671,
          -1.3818685152720156,
          -1.366701060664465,
          -1.0957967356370333,
          -1.079878844437582,
          -1.0325003891351785,
          -0.9528358894787321,
          -0.746593292319651,
          -0.9675230646674664,
          -1.1998091255385093,
          -1.1763118247608624,
          -1.112864259855387,
          -1.0968638206308268,
          -1.0801279535462038,
          -1.0641275143216435,
          -1.0088856146213623,
          -0.9928851753968021,
          -0.991908476742091,
          -0.9335575073808612,
          -0.8856537464641272,
          -0.8327220603816594,
          -0.8167366298889371,
          -0.7904465739041797,
          -0.7744611434114573,
          -0.7555820076989568,
          -0.7395815684743964,
          -0.7311005039006798,
          -0.7151000646761194,
          -0.6931036370822736,
          -0.6771182065895512,
          -1.0556389453820079,
          -0.9916747103133616,
          -0.9124529682461366,
          -0.6085947102978704,
          -0.30594691743304464,
          -0.2899464782084843,
          -0.27471148430766257,
          -0.2587110450831022,
          -0.2577268420624722,
          -0.2417414115697499,
          -0.222288964022447
         ],
         "xaxis": "x",
         "y": [
          -1.303946177440831,
          -1.2898097836367335,
          -1.2733138326731517,
          -1.0339389608672889,
          -1.0198025670631918,
          -0.9762136070711571,
          -0.9057675937666183,
          -0.27052187805772177,
          -0.92377366131227,
          -1.3176624234097436,
          -1.327357556916437,
          -1.2059215133954435,
          -1.1920446708788894,
          -1.1804801943786298,
          -1.1666033518620758,
          -1.2119251520581946,
          -1.1980483095416405,
          -1.1369331326922114,
          -1.0636582972150783,
          -1.021721027234683,
          -0.9955927902228321,
          -0.9816687565630882,
          -0.9359588415463045,
          -0.9220348078865607,
          -0.6604646646637973,
          -0.6465878221472431,
          -0.6090682168926567,
          -0.5951913743761025,
          -0.6001673935638275,
          -0.5862433599040837,
          -1.129107342179084,
          -1.0734819942548932,
          -1.0016438422262586,
          -0.7375119229798325,
          -0.5979463190201538,
          -0.5840694765035996,
          -0.5677858856843715,
          -0.5539090431678173,
          -0.4928174618899832,
          -0.4788934282302394,
          -0.4758705486473127
         ],
         "yaxis": "y"
        },
        {
         "hovertemplate": "Cluster=3<br>PC1=%{x}<br>PC2=%{y}<extra></extra>",
         "legendgroup": "3",
         "marker": {
          "color": "#EF553B",
          "symbol": "circle"
         },
         "mode": "markers",
         "name": "3",
         "orientation": "v",
         "showlegend": true,
         "type": "scatter",
         "x": [
          0.12232142344608099,
          -0.29841589798174356,
          0.4384433302976654,
          0.3532574662645485,
          0.12980664019871027,
          0.36885195187500525,
          0.3848373823677275,
          0.34534714673143935,
          0.32936171623871685
         ],
         "xaxis": "x",
         "y": [
          0.7843799065117536,
          0.11751060983070855,
          0.59174638039551,
          0.21773010642938803,
          0.021708238899611328,
          0.6180003123242096,
          0.6319243459839534,
          0.6277190414024981,
          0.6137950077427541
         ],
         "yaxis": "y"
        },
        {
         "hovertemplate": "Cluster=0<br>PC1=%{x}<br>PC2=%{y}<extra></extra>",
         "legendgroup": "0",
         "marker": {
          "color": "#00cc96",
          "symbol": "circle"
         },
         "mode": "markers",
         "name": "0",
         "orientation": "v",
         "showlegend": true,
         "type": "scatter",
         "x": [
          -1.0982493149932102,
          0.09279678973356664,
          -1.1915604790941843,
          -0.7841426893181175,
          -0.7681572588253951,
          -0.7353534132229409,
          -0.6721771365757901,
          -0.6553587214660582,
          -0.6393732909733358,
          -0.6250088035191188,
          -0.6090233730263965,
          -1.1199567995199902,
          -0.7521343065030778,
          -0.7193529739983805,
          -0.7049959909100825,
          -0.6890105604173601,
          -1.1359422300127127,
          -1.1031383844102582,
          -1.087152953917536,
          -1.072788466463319,
          -1.0568030359705964,
          -0.583836458831733,
          -0.5678585327049296,
          -0.5518731022122073
         ],
         "xaxis": "x",
         "y": [
          1.6054050119008922,
          2.866983498883352,
          1.2880342642641924,
          1.611666498013937,
          1.625590531673681,
          1.650819490546141,
          1.7089223734877905,
          1.7202272987005067,
          1.7341513323602507,
          1.7531720094844805,
          1.7670960431442244,
          1.3196393203048336,
          1.6393965874754506,
          1.6646963330626952,
          1.68374060575852,
          1.697664639418264,
          1.3057152866450896,
          1.33094424551755,
          1.3448682791772937,
          1.3638889563015235,
          1.3778129899612672,
          1.8162745071854498,
          1.8302221364167883,
          1.8441461700765323
         ],
         "yaxis": "y"
        },
        {
         "hovertemplate": "Cluster=1<br>PC1=%{x}<br>PC2=%{y}<extra></extra>",
         "legendgroup": "1",
         "marker": {
          "color": "#ab63fa",
          "symbol": "circle"
         },
         "mode": "markers",
         "name": "1",
         "orientation": "v",
         "showlegend": true,
         "type": "scatter",
         "x": [
          1.6001254142892414,
          2.4696669949294003,
          2.4855848861288514,
          2.501502777328303,
          2.517420668527754,
          1.2847148485596187,
          1.300700279052341,
          1.661033414882086,
          1.5735718790357927,
          1.589557309528515,
          1.762300721848869,
          1.816004226535754,
          1.831576916902931,
          1.8199785604478693,
          2.647674361014698,
          1.7792692242769812,
          1.5525218280092676,
          1.793980456879476,
          1.6450479843893637,
          1.729864590176446,
          1.7460826560126577,
          1.8359789996724296,
          2.533338559727205,
          2.3905725724174522
         ],
         "xaxis": "x",
         "y": [
          0.655956455033199,
          0.23260559826847732,
          0.24674199207257486,
          0.26087838587667234,
          0.2750147796807697,
          -0.5988306891800902,
          -0.5849066555203464,
          -0.2416010078980765,
          -0.2875312223155739,
          -0.27360718865583,
          -0.3674518475286065,
          -0.4079365555477828,
          -0.3927147654503226,
          -0.1636882082944205,
          0.3147682471779916,
          -0.35661883374778697,
          0.6130753621890098,
          0.17480085190874306,
          -0.2555250415578203,
          -0.39383698940921397,
          -0.38064441846891023,
          -0.14981136577786622,
          0.289151173484867,
          0.41512076514901614
         ],
         "yaxis": "y"
        },
        {
         "hovertemplate": "Cluster=4<br>PC1=%{x}<br>PC2=%{y}<extra></extra>",
         "legendgroup": "4",
         "marker": {
          "color": "#FFA15A",
          "symbol": "circle"
         },
         "mode": "markers",
         "name": "4",
         "orientation": "v",
         "showlegend": true,
         "type": "scatter",
         "x": [
          1.0611792622565592,
          0.8851819351523145,
          1.6266706393492727,
          1.7254044506603898
         ],
         "xaxis": "x",
         "y": [
          -1.5026247702906055,
          -1.6552936335442965,
          -0.8104971281413665,
          -1.1851266647714687
         ],
         "yaxis": "y"
        },
        {
         "marker": {
          "color": "red",
          "size": 12,
          "symbol": "x"
         },
         "mode": "markers",
         "name": "Centroid 1",
         "type": "scatter",
         "x": [
          -0.7846021452980487
         ],
         "y": [
          1.6479616004066961
         ]
        },
        {
         "marker": {
          "color": "red",
          "size": 12,
          "symbol": "x"
         },
         "mode": "markers",
         "name": "Centroid 2",
         "type": "scatter",
         "x": [
          1.911169588773888
         ],
         "y": [
          -0.057357965771305336
         ]
        },
        {
         "marker": {
          "color": "red",
          "size": 12,
          "symbol": "x"
         },
         "mode": "markers",
         "name": "Centroid 3",
         "type": "scatter",
         "x": [
          -0.8417040509823612
         ],
         "y": [
          -0.9084258288785859
         ]
        },
        {
         "marker": {
          "color": "red",
          "size": 12,
          "symbol": "x"
         },
         "mode": "markers",
         "name": "Centroid 4",
         "type": "scatter",
         "x": [
          0.24153457327090555
         ],
         "y": [
          0.4693904388355985
         ]
        },
        {
         "marker": {
          "color": "red",
          "size": 12,
          "symbol": "x"
         },
         "mode": "markers",
         "name": "Centroid 5",
         "type": "scatter",
         "x": [
          1.324609071854634
         ],
         "y": [
          -1.288385549186934
         ]
        }
       ],
       "layout": {
        "legend": {
         "title": {
          "text": "Cluster"
         },
         "tracegroupgap": 0
        },
        "template": {
         "data": {
          "bar": [
           {
            "error_x": {
             "color": "#2a3f5f"
            },
            "error_y": {
             "color": "#2a3f5f"
            },
            "marker": {
             "line": {
              "color": "#E5ECF6",
              "width": 0.5
             },
             "pattern": {
              "fillmode": "overlay",
              "size": 10,
              "solidity": 0.2
             }
            },
            "type": "bar"
           }
          ],
          "barpolar": [
           {
            "marker": {
             "line": {
              "color": "#E5ECF6",
              "width": 0.5
             },
             "pattern": {
              "fillmode": "overlay",
              "size": 10,
              "solidity": 0.2
             }
            },
            "type": "barpolar"
           }
          ],
          "carpet": [
           {
            "aaxis": {
             "endlinecolor": "#2a3f5f",
             "gridcolor": "white",
             "linecolor": "white",
             "minorgridcolor": "white",
             "startlinecolor": "#2a3f5f"
            },
            "baxis": {
             "endlinecolor": "#2a3f5f",
             "gridcolor": "white",
             "linecolor": "white",
             "minorgridcolor": "white",
             "startlinecolor": "#2a3f5f"
            },
            "type": "carpet"
           }
          ],
          "choropleth": [
           {
            "colorbar": {
             "outlinewidth": 0,
             "ticks": ""
            },
            "type": "choropleth"
           }
          ],
          "contour": [
           {
            "colorbar": {
             "outlinewidth": 0,
             "ticks": ""
            },
            "colorscale": [
             [
              0,
              "#0d0887"
             ],
             [
              0.1111111111111111,
              "#46039f"
             ],
             [
              0.2222222222222222,
              "#7201a8"
             ],
             [
              0.3333333333333333,
              "#9c179e"
             ],
             [
              0.4444444444444444,
              "#bd3786"
             ],
             [
              0.5555555555555556,
              "#d8576b"
             ],
             [
              0.6666666666666666,
              "#ed7953"
             ],
             [
              0.7777777777777778,
              "#fb9f3a"
             ],
             [
              0.8888888888888888,
              "#fdca26"
             ],
             [
              1,
              "#f0f921"
             ]
            ],
            "type": "contour"
           }
          ],
          "contourcarpet": [
           {
            "colorbar": {
             "outlinewidth": 0,
             "ticks": ""
            },
            "type": "contourcarpet"
           }
          ],
          "heatmap": [
           {
            "colorbar": {
             "outlinewidth": 0,
             "ticks": ""
            },
            "colorscale": [
             [
              0,
              "#0d0887"
             ],
             [
              0.1111111111111111,
              "#46039f"
             ],
             [
              0.2222222222222222,
              "#7201a8"
             ],
             [
              0.3333333333333333,
              "#9c179e"
             ],
             [
              0.4444444444444444,
              "#bd3786"
             ],
             [
              0.5555555555555556,
              "#d8576b"
             ],
             [
              0.6666666666666666,
              "#ed7953"
             ],
             [
              0.7777777777777778,
              "#fb9f3a"
             ],
             [
              0.8888888888888888,
              "#fdca26"
             ],
             [
              1,
              "#f0f921"
             ]
            ],
            "type": "heatmap"
           }
          ],
          "heatmapgl": [
           {
            "colorbar": {
             "outlinewidth": 0,
             "ticks": ""
            },
            "colorscale": [
             [
              0,
              "#0d0887"
             ],
             [
              0.1111111111111111,
              "#46039f"
             ],
             [
              0.2222222222222222,
              "#7201a8"
             ],
             [
              0.3333333333333333,
              "#9c179e"
             ],
             [
              0.4444444444444444,
              "#bd3786"
             ],
             [
              0.5555555555555556,
              "#d8576b"
             ],
             [
              0.6666666666666666,
              "#ed7953"
             ],
             [
              0.7777777777777778,
              "#fb9f3a"
             ],
             [
              0.8888888888888888,
              "#fdca26"
             ],
             [
              1,
              "#f0f921"
             ]
            ],
            "type": "heatmapgl"
           }
          ],
          "histogram": [
           {
            "marker": {
             "pattern": {
              "fillmode": "overlay",
              "size": 10,
              "solidity": 0.2
             }
            },
            "type": "histogram"
           }
          ],
          "histogram2d": [
           {
            "colorbar": {
             "outlinewidth": 0,
             "ticks": ""
            },
            "colorscale": [
             [
              0,
              "#0d0887"
             ],
             [
              0.1111111111111111,
              "#46039f"
             ],
             [
              0.2222222222222222,
              "#7201a8"
             ],
             [
              0.3333333333333333,
              "#9c179e"
             ],
             [
              0.4444444444444444,
              "#bd3786"
             ],
             [
              0.5555555555555556,
              "#d8576b"
             ],
             [
              0.6666666666666666,
              "#ed7953"
             ],
             [
              0.7777777777777778,
              "#fb9f3a"
             ],
             [
              0.8888888888888888,
              "#fdca26"
             ],
             [
              1,
              "#f0f921"
             ]
            ],
            "type": "histogram2d"
           }
          ],
          "histogram2dcontour": [
           {
            "colorbar": {
             "outlinewidth": 0,
             "ticks": ""
            },
            "colorscale": [
             [
              0,
              "#0d0887"
             ],
             [
              0.1111111111111111,
              "#46039f"
             ],
             [
              0.2222222222222222,
              "#7201a8"
             ],
             [
              0.3333333333333333,
              "#9c179e"
             ],
             [
              0.4444444444444444,
              "#bd3786"
             ],
             [
              0.5555555555555556,
              "#d8576b"
             ],
             [
              0.6666666666666666,
              "#ed7953"
             ],
             [
              0.7777777777777778,
              "#fb9f3a"
             ],
             [
              0.8888888888888888,
              "#fdca26"
             ],
             [
              1,
              "#f0f921"
             ]
            ],
            "type": "histogram2dcontour"
           }
          ],
          "mesh3d": [
           {
            "colorbar": {
             "outlinewidth": 0,
             "ticks": ""
            },
            "type": "mesh3d"
           }
          ],
          "parcoords": [
           {
            "line": {
             "colorbar": {
              "outlinewidth": 0,
              "ticks": ""
             }
            },
            "type": "parcoords"
           }
          ],
          "pie": [
           {
            "automargin": true,
            "type": "pie"
           }
          ],
          "scatter": [
           {
            "fillpattern": {
             "fillmode": "overlay",
             "size": 10,
             "solidity": 0.2
            },
            "type": "scatter"
           }
          ],
          "scatter3d": [
           {
            "line": {
             "colorbar": {
              "outlinewidth": 0,
              "ticks": ""
             }
            },
            "marker": {
             "colorbar": {
              "outlinewidth": 0,
              "ticks": ""
             }
            },
            "type": "scatter3d"
           }
          ],
          "scattercarpet": [
           {
            "marker": {
             "colorbar": {
              "outlinewidth": 0,
              "ticks": ""
             }
            },
            "type": "scattercarpet"
           }
          ],
          "scattergeo": [
           {
            "marker": {
             "colorbar": {
              "outlinewidth": 0,
              "ticks": ""
             }
            },
            "type": "scattergeo"
           }
          ],
          "scattergl": [
           {
            "marker": {
             "colorbar": {
              "outlinewidth": 0,
              "ticks": ""
             }
            },
            "type": "scattergl"
           }
          ],
          "scattermapbox": [
           {
            "marker": {
             "colorbar": {
              "outlinewidth": 0,
              "ticks": ""
             }
            },
            "type": "scattermapbox"
           }
          ],
          "scatterpolar": [
           {
            "marker": {
             "colorbar": {
              "outlinewidth": 0,
              "ticks": ""
             }
            },
            "type": "scatterpolar"
           }
          ],
          "scatterpolargl": [
           {
            "marker": {
             "colorbar": {
              "outlinewidth": 0,
              "ticks": ""
             }
            },
            "type": "scatterpolargl"
           }
          ],
          "scatterternary": [
           {
            "marker": {
             "colorbar": {
              "outlinewidth": 0,
              "ticks": ""
             }
            },
            "type": "scatterternary"
           }
          ],
          "surface": [
           {
            "colorbar": {
             "outlinewidth": 0,
             "ticks": ""
            },
            "colorscale": [
             [
              0,
              "#0d0887"
             ],
             [
              0.1111111111111111,
              "#46039f"
             ],
             [
              0.2222222222222222,
              "#7201a8"
             ],
             [
              0.3333333333333333,
              "#9c179e"
             ],
             [
              0.4444444444444444,
              "#bd3786"
             ],
             [
              0.5555555555555556,
              "#d8576b"
             ],
             [
              0.6666666666666666,
              "#ed7953"
             ],
             [
              0.7777777777777778,
              "#fb9f3a"
             ],
             [
              0.8888888888888888,
              "#fdca26"
             ],
             [
              1,
              "#f0f921"
             ]
            ],
            "type": "surface"
           }
          ],
          "table": [
           {
            "cells": {
             "fill": {
              "color": "#EBF0F8"
             },
             "line": {
              "color": "white"
             }
            },
            "header": {
             "fill": {
              "color": "#C8D4E3"
             },
             "line": {
              "color": "white"
             }
            },
            "type": "table"
           }
          ]
         },
         "layout": {
          "annotationdefaults": {
           "arrowcolor": "#2a3f5f",
           "arrowhead": 0,
           "arrowwidth": 1
          },
          "autotypenumbers": "strict",
          "coloraxis": {
           "colorbar": {
            "outlinewidth": 0,
            "ticks": ""
           }
          },
          "colorscale": {
           "diverging": [
            [
             0,
             "#8e0152"
            ],
            [
             0.1,
             "#c51b7d"
            ],
            [
             0.2,
             "#de77ae"
            ],
            [
             0.3,
             "#f1b6da"
            ],
            [
             0.4,
             "#fde0ef"
            ],
            [
             0.5,
             "#f7f7f7"
            ],
            [
             0.6,
             "#e6f5d0"
            ],
            [
             0.7,
             "#b8e186"
            ],
            [
             0.8,
             "#7fbc41"
            ],
            [
             0.9,
             "#4d9221"
            ],
            [
             1,
             "#276419"
            ]
           ],
           "sequential": [
            [
             0,
             "#0d0887"
            ],
            [
             0.1111111111111111,
             "#46039f"
            ],
            [
             0.2222222222222222,
             "#7201a8"
            ],
            [
             0.3333333333333333,
             "#9c179e"
            ],
            [
             0.4444444444444444,
             "#bd3786"
            ],
            [
             0.5555555555555556,
             "#d8576b"
            ],
            [
             0.6666666666666666,
             "#ed7953"
            ],
            [
             0.7777777777777778,
             "#fb9f3a"
            ],
            [
             0.8888888888888888,
             "#fdca26"
            ],
            [
             1,
             "#f0f921"
            ]
           ],
           "sequentialminus": [
            [
             0,
             "#0d0887"
            ],
            [
             0.1111111111111111,
             "#46039f"
            ],
            [
             0.2222222222222222,
             "#7201a8"
            ],
            [
             0.3333333333333333,
             "#9c179e"
            ],
            [
             0.4444444444444444,
             "#bd3786"
            ],
            [
             0.5555555555555556,
             "#d8576b"
            ],
            [
             0.6666666666666666,
             "#ed7953"
            ],
            [
             0.7777777777777778,
             "#fb9f3a"
            ],
            [
             0.8888888888888888,
             "#fdca26"
            ],
            [
             1,
             "#f0f921"
            ]
           ]
          },
          "colorway": [
           "#636efa",
           "#EF553B",
           "#00cc96",
           "#ab63fa",
           "#FFA15A",
           "#19d3f3",
           "#FF6692",
           "#B6E880",
           "#FF97FF",
           "#FECB52"
          ],
          "font": {
           "color": "#2a3f5f"
          },
          "geo": {
           "bgcolor": "white",
           "lakecolor": "white",
           "landcolor": "#E5ECF6",
           "showlakes": true,
           "showland": true,
           "subunitcolor": "white"
          },
          "hoverlabel": {
           "align": "left"
          },
          "hovermode": "closest",
          "mapbox": {
           "style": "light"
          },
          "paper_bgcolor": "white",
          "plot_bgcolor": "#E5ECF6",
          "polar": {
           "angularaxis": {
            "gridcolor": "white",
            "linecolor": "white",
            "ticks": ""
           },
           "bgcolor": "#E5ECF6",
           "radialaxis": {
            "gridcolor": "white",
            "linecolor": "white",
            "ticks": ""
           }
          },
          "scene": {
           "xaxis": {
            "backgroundcolor": "#E5ECF6",
            "gridcolor": "white",
            "gridwidth": 2,
            "linecolor": "white",
            "showbackground": true,
            "ticks": "",
            "zerolinecolor": "white"
           },
           "yaxis": {
            "backgroundcolor": "#E5ECF6",
            "gridcolor": "white",
            "gridwidth": 2,
            "linecolor": "white",
            "showbackground": true,
            "ticks": "",
            "zerolinecolor": "white"
           },
           "zaxis": {
            "backgroundcolor": "#E5ECF6",
            "gridcolor": "white",
            "gridwidth": 2,
            "linecolor": "white",
            "showbackground": true,
            "ticks": "",
            "zerolinecolor": "white"
           }
          },
          "shapedefaults": {
           "line": {
            "color": "#2a3f5f"
           }
          },
          "ternary": {
           "aaxis": {
            "gridcolor": "white",
            "linecolor": "white",
            "ticks": ""
           },
           "baxis": {
            "gridcolor": "white",
            "linecolor": "white",
            "ticks": ""
           },
           "bgcolor": "#E5ECF6",
           "caxis": {
            "gridcolor": "white",
            "linecolor": "white",
            "ticks": ""
           }
          },
          "title": {
           "x": 0.05
          },
          "xaxis": {
           "automargin": true,
           "gridcolor": "white",
           "linecolor": "white",
           "ticks": "",
           "title": {
            "standoff": 15
           },
           "zerolinecolor": "white",
           "zerolinewidth": 2
          },
          "yaxis": {
           "automargin": true,
           "gridcolor": "white",
           "linecolor": "white",
           "ticks": "",
           "title": {
            "standoff": 15
           },
           "zerolinecolor": "white",
           "zerolinewidth": 2
          }
         }
        },
        "title": {
         "text": "KMeans Clustering com Centroides"
        },
        "xaxis": {
         "anchor": "y",
         "domain": [
          0,
          1
         ],
         "title": {
          "text": "PC1"
         }
        },
        "yaxis": {
         "anchor": "x",
         "domain": [
          0,
          1
         ],
         "title": {
          "text": "PC2"
         }
        }
       }
      }
     },
     "metadata": {},
     "output_type": "display_data"
    }
   ],
   "source": [
    "def plot_kmeans_clusters(df, kmeans, labels, scaled_data):\n",
    "    \"\"\"\n",
    "    Cria um gráfico interativo em 2D ou 3D usando Plotly, mostrando os clusters e os centroides.\n",
    "\n",
    "    Args:\n",
    "        df (pd.DataFrame): DataFrame original.\n",
    "        kmeans (KMeans): Modelo KMeans treinado.\n",
    "        labels (np.ndarray): Rótulos dos clusters para cada amostra.\n",
    "        scaled_data (np.ndarray): Dados escalonados usados no KMeans.\n",
    "\n",
    "    Returns:\n",
    "        None: Exibe o gráfico interativo com Plotly.\n",
    "    \"\"\"\n",
    "    # Reduzir a dimensionalidade para 2D com PCA (caso tenha mais de 2 dimensões)\n",
    "    if scaled_data.shape[1] > 2:\n",
    "        from sklearn.decomposition import PCA\n",
    "        pca = PCA(n_components=2)\n",
    "        reduced_data = pca.fit_transform(scaled_data)\n",
    "    else:\n",
    "        reduced_data = scaled_data\n",
    "\n",
    "    # Criar DataFrame com os componentes principais ou dados originais\n",
    "    plot_df = pd.DataFrame(reduced_data, columns=['PC1', 'PC2'])\n",
    "    plot_df['cluster'] = labels\n",
    "\n",
    "    # Adicionar os centroides ao gráfico\n",
    "    centroids = kmeans.cluster_centers_\n",
    "    if scaled_data.shape[1] > 2:\n",
    "        centroids = pca.transform(centroids)\n",
    "\n",
    "    # Gráfico de dispersão com Plotly\n",
    "    fig = px.scatter(\n",
    "        plot_df, x='PC1', y='PC2', color=plot_df['cluster'].astype(str),\n",
    "        title=\"KMeans Clustering com Centroides\",\n",
    "        labels={'color': 'Cluster'}\n",
    "    )\n",
    "\n",
    "    # Adicionar os centroides ao gráfico\n",
    "    for i, centroid in enumerate(centroids):\n",
    "        fig.add_scatter(\n",
    "            x=[centroid[0]], y=[centroid[1]], \n",
    "            mode='markers', \n",
    "            marker=dict(size=12, symbol='x', color='red'),\n",
    "            name=f'Centroid {i+1}'\n",
    "        )\n",
    "\n",
    "    fig.show()\n",
    "\n",
    "\n",
    "# Exibir o gráfico interativo\n",
    "plot_kmeans_clusters(df, kmeans_modelo, labels, scaled_data)"
   ]
  },
  {
   "cell_type": "code",
   "execution_count": 37,
   "metadata": {},
   "outputs": [
    {
     "data": {
      "image/png": "[encoded data removed]",
      "text/plain": [
       "<Figure size 800x600 with 1 Axes>"
      ]
     },
     "metadata": {},
     "output_type": "display_data"
    }
   ],
   "source": [
    "def plot_pca_scatter(pca_df, pca_modelo):\n",
    "    \"\"\"\n",
    "    Cria um gráfico de dispersão das duas primeiras componentes principais resultantes da PCA.\n",
    "\n",
    "    Args:\n",
    "        pca_df (pd.DataFrame): DataFrame com os dados das componentes principais resultantes da PCA (PC1, PC2).\n",
    "        pca_modelo (PCA): O modelo PCA treinado, contendo as variâncias explicadas para as componentes principais.\n",
    "\n",
    "    Returns:\n",
    "        None: Exibe o gráfico de dispersão das componentes principais (PC1 e PC2).\n",
    "    \"\"\"\n",
    "    # Criar o gráfico de dispersão\n",
    "    plt.figure(figsize=(8, 6))\n",
    "    sns.scatterplot(x='PC1', y='PC2', data=pca_df)\n",
    "\n",
    "    # Adicionar título e rótulos aos eixos com a variância explicada por cada componente\n",
    "    plt.title('PCA - Gráfico de Dispersão')\n",
    "    plt.xlabel(f'PC1 - {pca_modelo.explained_variance_ratio_[0]:.2f}')\n",
    "    plt.ylabel(f'PC2 - {pca_modelo.explained_variance_ratio_[1]:.2f}')\n",
    "    \n",
    "    # Exibir o gráfico\n",
    "    plt.show()\n",
    "\n",
    "plot_pca_scatter(pca_df, pca_modelo)"
   ]
  },
  {
   "cell_type": "code",
   "execution_count": 38,
   "metadata": {},
   "outputs": [
    {
     "data": {
      "image/png": "[encoded data removed]",
      "text/plain": [
       "<Figure size 800x600 with 1 Axes>"
      ]
     },
     "metadata": {},
     "output_type": "display_data"
    },
    {
     "data": {
      "text/plain": [
       "'\\nCria um gráfico de dispersão das duas primeiras componentes principais resultantes da PCA,\\ncolorido pelos rótulos de clusters gerados pelo KMeans.\\n\\nFuncionalidade:\\n- Reduz a dimensionalidade dos dados usando PCA para projetar em 2D.\\n- Plota as componentes principais (PC1 e PC2) e colore os pontos de acordo com os clusters gerados pelo KMeans.\\n- Os clusters são visualizados em um gráfico de dispersão para análise visual.\\n\\nArgs:\\n    df (pd.DataFrame): DataFrame original com os dados a serem agrupados.\\n    labels (np.ndarray): Rótulos dos clusters gerados pelo KMeans.\\n    pca_modelo (PCA): O modelo PCA já ajustado aos dados para reduzir a dimensionalidade.\\n\\nReturns:\\n    None: O gráfico de dispersão é exibido com os clusters identificados pelo KMeans.\\n'"
      ]
     },
     "execution_count": 38,
     "metadata": {},
     "output_type": "execute_result"
    }
   ],
   "source": [
    "def plot_kmeans_clusters(df, labels, pca_modelo):\n",
    "    \"\"\"\n",
    "    Cria um gráfico de dispersão das duas primeiras componentes principais resultantes da PCA, \n",
    "    colorido pelos rótulos de clusters gerados pelo KMeans.\n",
    "\n",
    "    Args:\n",
    "        df (pd.DataFrame): DataFrame original com os dados a serem agrupados.\n",
    "        labels (np.ndarray): Rótulos dos clusters gerados pelo KMeans.\n",
    "        pca_modelo (PCA): O modelo PCA já ajustado aos dados para reduzir a dimensionalidade.\n",
    "\n",
    "    Returns:\n",
    "        None: Exibe o gráfico de dispersão com as componentes principais e os clusters.\n",
    "    \"\"\"\n",
    "    # Reduzir a dimensionalidade para 2D usando PCA para visualização\n",
    "    pca_df, _ = realizar_pca(df, n_componentes=2)\n",
    "\n",
    "    # Criar o gráfico de dispersão, colorindo pelos rótulos de cluster\n",
    "    plt.figure(figsize=(8, 6))\n",
    "    sns.scatterplot(x='PC1', y='PC2', hue=labels, palette='viridis', data=pca_df)\n",
    "\n",
    "    # Adicionar título e rótulos aos eixos\n",
    "    plt.title('KMeans Clustering - Gráfico de Dispersão com PCA')\n",
    "    plt.xlabel('PC1')\n",
    "    plt.ylabel('PC2')\n",
    "    plt.legend(title='Cluster')\n",
    "\n",
    "    # Exibir o gráfico\n",
    "    plt.show()\n",
    "\n",
    "plot_kmeans_clusters(df, labels, pca_modelo)\n",
    "\n",
    "\"\"\"\n",
    "Cria um gráfico de dispersão das duas primeiras componentes principais resultantes da PCA,\n",
    "colorido pelos rótulos de clusters gerados pelo KMeans.\n",
    "\n",
    "Funcionalidade:\n",
    "- Reduz a dimensionalidade dos dados usando PCA para projetar em 2D.\n",
    "- Plota as componentes principais (PC1 e PC2) e colore os pontos de acordo com os clusters gerados pelo KMeans.\n",
    "- Os clusters são visualizados em um gráfico de dispersão para análise visual.\n",
    "\n",
    "Args:\n",
    "    df (pd.DataFrame): DataFrame original com os dados a serem agrupados.\n",
    "    labels (np.ndarray): Rótulos dos clusters gerados pelo KMeans.\n",
    "    pca_modelo (PCA): O modelo PCA já ajustado aos dados para reduzir a dimensionalidade.\n",
    "\n",
    "Returns:\n",
    "    None: O gráfico de dispersão é exibido com os clusters identificados pelo KMeans.\n",
    "\"\"\""
   ]
  },
  {
   "cell_type": "markdown",
   "metadata": {},
   "source": [
    "## Resumo das Descobertas\n",
    "\n",
    "- **Descoberta 1**: **Identificação de padrões com PCA**. A Análise de Componentes Principais (PCA) revelou que as primeiras duas ou três componentes principais capturam a maior parte da variância nos dados. Essas componentes indicam que algumas variáveis explicam mais a variação dos dados, o que pode direcionar futuras análises focadas em menos dimensões.\n",
    "\n",
    "- **Descoberta 2**: **Segmentação clara com KMeans**. A aplicação do algoritmo KMeans revelou segmentos distintos nos dados. Esses clusters podem representar diferentes padrões de comportamento de embarque (como categorias de usuários distintos: idoso, deficiente, desempregado), indicando possíveis subgrupos que precisam ser tratados de maneira diferenciada em análises futuras.\n",
    "\n",
    "- **Descoberta 3**: **Correlação entre variáveis**. Foi observada uma correlação significativa entre certas variáveis (como `tx_movimento` e `cd_tipo_embarque`), sugerindo que existe uma relação direta entre o tipo de movimento e o tipo de embarque. Isso pode indicar padrões previsíveis de utilização dependendo do tipo de categoria do usuário.\n",
    "\n",
    "- **Descoberta 4**: **Potenciais outliers e anomalias**. Através da análise descritiva e dos gráficos, alguns valores atípicos foram identificados. Estes podem ser resultado de erros de entrada de dados ou representam casos especiais que podem necessitar de atenção ou tratamento especial.\n",
    "\n",
    "## Hipóteses\n",
    "\n",
    "1. **Comportamento por categoria de embarque**: Usuários que pertencem às categorias de gratuidade, como idosos e deficientes, possuem padrões de uso significativamente diferentes dos demais usuários pagantes. Isso pode ser analisado em termos de frequência de uso e horários de pico.\n",
    "   \n",
    "2. **Segmentação**: A segmentação identificada nos clusters sugere que diferentes tipos de usuários podem ter necessidades de embarque diferenciadas, possibilitando ajustes nas políticas de gratuidade ou serviços oferecidos para otimizar a experiência.\n",
    "\n",
    "3. **Correlação entre categoria de embarque e tipo de movimento**: Existe uma hipótese de que o tipo de embarque influencia diretamente o tipo de movimento registrado. Por exemplo, usuários idosos podem ter um padrão mais frequente em certos tipos de movimento, como bloqueios ou bilhetes únicos.\n",
    "\n",
    "4. **Análise de anomalias**: A presença de outliers sugere que algumas observações podem ser causadas por comportamentos incomuns ou erros de registro. Isso pode ser investigado mais a fundo para determinar causas potenciais."
   ]
  }
 ],
 "metadata": {
  "kernelspec": {
   "display_name": "env",
   "language": "python",
   "name": "python3"
  },
  "language_info": {
   "codemirror_mode": {
    "name": "ipython",
    "version": 3
   },
   "file_extension": ".py",
   "mimetype": "text/x-python",
   "name": "python",
   "nbconvert_exporter": "python",
   "pygments_lexer": "ipython3",
   "version": "3.12.7"
  }
 },
 "nbformat": 4,
 "nbformat_minor": 2
}
