{
 "cells": [
  {
   "cell_type": "markdown",
   "id": "0a8d3f19",
   "metadata": {},
   "source": [
    "### 1. Importação "
   ]
  },
  {
   "cell_type": "code",
   "execution_count": 7,
   "id": "3de56756-36a6-46c8-b166-3cf6f3e258cd",
   "metadata": {},
   "outputs": [
    {
     "data": {
      "text/plain": [
       "'\\nImporta todas as bibliotecas necessárias para a análise exploratória, incluindo ferramentas para\\nredução de dimensionalidade e clustering.\\n\\nBibliotecas:\\n- pandas: Manipulação de dados\\n- numpy: Operações numéricas\\n- matplotlib: Visualização de dados\\n- seaborn: Visualização estatística\\n- os: Interação com o sistema operacional\\n- sklearn.decomposition.PCA: Análise de Componentes Principais\\n- sklearn.cluster.KMeans: Algoritmo de Clustering KMeans\\n- sklearn.preprocessing.StandardScaler: Escalonamento de dados\\n- boto3: Interação com AWS S3\\n'"
      ]
     },
     "execution_count": 7,
     "metadata": {},
     "output_type": "execute_result"
    }
   ],
   "source": [
    "import pandas as pd\n",
    "import numpy as np\n",
    "import matplotlib.pyplot as plt\n",
    "import seaborn as sns\n",
    "import plotly.express as px\n",
    "import os\n",
    "from sklearn.decomposition import PCA\n",
    "from sklearn.cluster import KMeans\n",
    "from sklearn.preprocessing import StandardScaler\n",
    "import uuid\n",
    "from datetime import datetime\n",
    "from dotenv import load_dotenv\n",
    "import boto3\n",
    "from skimpy import generate_test_data, skim\n",
    "\n",
    "# Configurações de visualização\n",
    "%matplotlib inline\n",
    "sns.set(style=\"whitegrid\")\n",
    "\n",
    "\"\"\"\n",
    "Importa todas as bibliotecas necessárias para a análise exploratória, incluindo ferramentas para\n",
    "redução de dimensionalidade e clustering.\n",
    "\n",
    "Bibliotecas:\n",
    "- pandas: Manipulação de dados\n",
    "- numpy: Operações numéricas\n",
    "- matplotlib: Visualização de dados\n",
    "- seaborn: Visualização estatística\n",
    "- os: Interação com o sistema operacional\n",
    "- sklearn.decomposition.PCA: Análise de Componentes Principais\n",
    "- sklearn.cluster.KMeans: Algoritmo de Clustering KMeans\n",
    "- sklearn.preprocessing.StandardScaler: Escalonamento de dados\n",
    "- boto3: Interação com AWS S3\n",
    "\"\"\""
   ]
  },
  {
   "cell_type": "code",
   "execution_count": 13,
   "id": "6ab00eef-0df7-4a00-9ef2-2d3c52ee7e94",
   "metadata": {},
   "outputs": [
    {
     "name": "stdout",
     "output_type": "stream",
     "text": [
      "Arquivo CSV carregado com sucesso.\n"
     ]
    },
    {
     "data": {
      "text/plain": [
       "\"\\nCarrega o arquivo CSV 'dmo_anl_vw_estacao.csv' e armazena em um DataFrame pandas.\\n\\nDiretórios:\\n- DATA_DIR: Diretório onde o arquivo CSV está localizado.\\n- csv_file: Nome do arquivo CSV a ser carregado.\\n\\nFuncionalidade:\\n- O código verifica se o arquivo CSV existe no diretório especificado.\\n- Se o arquivo existir, ele será carregado em um DataFrame pandas.\\n- Caso o arquivo não seja encontrado, uma mensagem de erro será exibida.\\n\\nVariáveis:\\n- df (DataFrame ou None): O DataFrame contendo os dados do arquivo CSV especificado.\\n  Se o arquivo não for encontrado, 'df' será None.\\n\""
      ]
     },
     "execution_count": 13,
     "metadata": {},
     "output_type": "execute_result"
    }
   ],
   "source": [
    "# Definir caminho do arquivo CSV\n",
    "DATA_DIR = 'C:/Users/Inteli/OneDrive/Documentos/Modulo_8/2024-2B-T10-SI08-G05/src/analise_exploratoria'\n",
    "csv_file = 'C:/Users/Inteli/Downloads/dados_cptm/caixa_preta/dmo_anl_vw_estacao.csv'\n",
    "\n",
    "# Caminho completo para o arquivo CSV\n",
    "csv_path = os.path.join(DATA_DIR, csv_file)\n",
    "\n",
    "# Verificar se o arquivo CSV existe e carregá-lo\n",
    "df = None  # Inicializar a variável df para evitar problemas caso o arquivo não exista\n",
    "if os.path.exists(csv_path):\n",
    "    # Carregar o arquivo CSV em um DataFrame\n",
    "    df = pd.read_csv(csv_path)\n",
    "    print(\"Arquivo CSV carregado com sucesso.\")\n",
    "else:\n",
    "    print(f\"Arquivo {csv_file} não encontrado no diretório {DATA_DIR}.\")\n",
    "\n",
    "\"\"\"\n",
    "Carrega o arquivo CSV 'dmo_anl_vw_estacao.csv' e armazena em um DataFrame pandas.\n",
    "\n",
    "Diretórios:\n",
    "- DATA_DIR: Diretório onde o arquivo CSV está localizado.\n",
    "- csv_file: Nome do arquivo CSV a ser carregado.\n",
    "\n",
    "Funcionalidade:\n",
    "- O código verifica se o arquivo CSV existe no diretório especificado.\n",
    "- Se o arquivo existir, ele será carregado em um DataFrame pandas.\n",
    "- Caso o arquivo não seja encontrado, uma mensagem de erro será exibida.\n",
    "\n",
    "Variáveis:\n",
    "- df (DataFrame ou None): O DataFrame contendo os dados do arquivo CSV especificado.\n",
    "  Se o arquivo não for encontrado, 'df' será None.\n",
    "\"\"\"\n"
   ]
  },
  {
   "cell_type": "markdown",
   "id": "e6b2fec7",
   "metadata": {},
   "source": [
    "### 2. Visualização Inicial dos Dados"
   ]
  },
  {
   "cell_type": "code",
   "execution_count": 14,
   "id": "13276ba0",
   "metadata": {},
   "outputs": [
    {
     "name": "stdout",
     "output_type": "stream",
     "text": [
      "   id_estacao tx_prefixo         tx_nome  cd_estacao_bu\n",
      "0          67        MOC  JUVENTUS-MOOCA            663\n",
      "1          68        MRB         MORUMBI            605\n",
      "2          69        OSA          OSASCO            564\n",
      "3          70        PPI  PARADA PIRELLI            656\n",
      "4          73        PRU           PERUS            505\n"
     ]
    },
    {
     "data": {
      "text/plain": [
       "'\\nExibe as primeiras 5 linhas de cada DataFrame carregado para uma visualização inicial dos dados.\\n\\nItera sobre o dicionário de DataFrames e utiliza a função display do Jupyter para mostrar as amostras.\\n'"
      ]
     },
     "execution_count": 14,
     "metadata": {},
     "output_type": "execute_result"
    }
   ],
   "source": [
    "print(df.head(5))\n",
    "\n",
    "\"\"\"\n",
    "Exibe as primeiras 5 linhas de cada DataFrame carregado para uma visualização inicial dos dados.\n",
    "\n",
    "Itera sobre o dicionário de DataFrames e utiliza a função display do Jupyter para mostrar as amostras.\n",
    "\"\"\""
   ]
  },
  {
   "cell_type": "code",
   "execution_count": 4,
   "id": "797115d3",
   "metadata": {},
   "outputs": [
    {
     "name": "stdout",
     "output_type": "stream",
     "text": [
      "<class 'pandas.core.frame.DataFrame'>\n",
      "RangeIndex: 97 entries, 0 to 96\n",
      "Data columns (total 4 columns):\n",
      " #   Column         Non-Null Count  Dtype \n",
      "---  ------         --------------  ----- \n",
      " 0   id_estacao     97 non-null     int64 \n",
      " 1   tx_prefixo     97 non-null     object\n",
      " 2   tx_nome        97 non-null     object\n",
      " 3   cd_estacao_bu  97 non-null     int64 \n",
      "dtypes: int64(2), object(2)\n",
      "memory usage: 3.2+ KB\n",
      "None\n"
     ]
    },
    {
     "data": {
      "text/plain": [
       "'\\nExibe informações gerais do df, incluindo tipos de dados e valores ausentes.\\n\\n'"
      ]
     },
     "execution_count": 4,
     "metadata": {},
     "output_type": "execute_result"
    }
   ],
   "source": [
    "print(df.info())\n",
    "\n",
    "\"\"\"\n",
    "Exibe informações gerais do df, incluindo tipos de dados e valores ausentes.\n",
    "\n",
    "\"\"\""
   ]
  },
  {
   "cell_type": "code",
   "execution_count": 5,
   "id": "ec07ef66",
   "metadata": {},
   "outputs": [
    {
     "name": "stdout",
     "output_type": "stream",
     "text": [
      "       id_estacao  cd_estacao_bu\n",
      "count   97.000000      97.000000\n",
      "mean    58.123711     624.278351\n",
      "std     32.180240      86.134070\n",
      "min      1.000000     501.000000\n",
      "25%     31.000000     558.000000\n",
      "50%     58.000000     611.000000\n",
      "75%     85.000000     703.000000\n",
      "max    113.000000     803.000000\n"
     ]
    },
    {
     "data": {
      "text/plain": [
       "'\\nGera um resumo estatístico descritivo para o DataFrame.\\n\\nInclui contagem, média, desvio padrão, valores mínimos e máximos, entre outros.\\n'"
      ]
     },
     "execution_count": 5,
     "metadata": {},
     "output_type": "execute_result"
    }
   ],
   "source": [
    "print(df.describe())\n",
    "\n",
    "\"\"\"\n",
    "Gera um resumo estatístico descritivo para o DataFrame.\n",
    "\n",
    "Inclui contagem, média, desvio padrão, valores mínimos e máximos, entre outros.\n",
    "\"\"\""
   ]
  },
  {
   "cell_type": "markdown",
   "id": "ac05475d",
   "metadata": {},
   "source": [
    "### 3. Limpeza de Dados"
   ]
  },
  {
   "cell_type": "code",
   "execution_count": 6,
   "id": "0621093f",
   "metadata": {},
   "outputs": [
    {
     "name": "stderr",
     "output_type": "stream",
     "text": [
      "C:\\Users\\Inteli\\AppData\\Local\\Temp\\ipykernel_14712\\2067655535.py:5: FutureWarning: DataFrame.fillna with 'method' is deprecated and will raise in a future version. Use obj.ffill() or obj.bfill() instead.\n",
      "  df = df.fillna(method='ffill')\n"
     ]
    },
    {
     "data": {
      "text/plain": [
       "\"\\nAplica transformações em um DataFrame.\\n\\nFuncionalidade:\\n- Remove duplicatas do DataFrame.\\n- Preenche valores ausentes utilizando o método 'forward fill' (preenchendo com o valor anterior).\\n\\nVariáveis:\\n- df (DataFrame): O DataFrame pandas que será modificado diretamente.\\n\\nRetorna:\\n- df (DataFrame): O DataFrame após a aplicação das transformações.\\n\""
      ]
     },
     "execution_count": 6,
     "metadata": {},
     "output_type": "execute_result"
    }
   ],
   "source": [
    "# Remover duplicatas do DataFrame\n",
    "df = df.drop_duplicates()\n",
    "\n",
    "# Preencher valores ausentes com o método forward fill\n",
    "df = df.fillna(method='ffill')\n",
    "\n",
    "\"\"\"\n",
    "Aplica transformações em um DataFrame.\n",
    "\n",
    "Funcionalidade:\n",
    "- Remove duplicatas do DataFrame.\n",
    "- Preenche valores ausentes utilizando o método 'forward fill' (preenchendo com o valor anterior).\n",
    "\n",
    "Variáveis:\n",
    "- df (DataFrame): O DataFrame pandas que será modificado diretamente.\n",
    "\n",
    "Retorna:\n",
    "- df (DataFrame): O DataFrame após a aplicação das transformações.\n",
    "\"\"\"\n"
   ]
  },
  {
   "cell_type": "code",
   "execution_count": 7,
   "id": "094a4573",
   "metadata": {},
   "outputs": [
    {
     "name": "stdout",
     "output_type": "stream",
     "text": [
      "Removidas 0 duplicatas.\n"
     ]
    },
    {
     "data": {
      "text/plain": [
       "'\\nRemove duplicatas de um DataFrame e exibe a quantidade de duplicatas removidas.\\n\\nFuncionalidade:\\n- Remove duplicatas do DataFrame.\\n- Exibe a quantidade de duplicatas removidas com base na diferença entre o número de linhas antes e depois da remoção.\\n\\nVariáveis:\\n- df (DataFrame): O DataFrame pandas que será modificado diretamente.\\n\\nRetorna:\\n- df (DataFrame): O DataFrame após a remoção das duplicatas.\\n'"
      ]
     },
     "execution_count": 7,
     "metadata": {},
     "output_type": "execute_result"
    }
   ],
   "source": [
    "# Obter a forma inicial do DataFrame\n",
    "initial_shape = df.shape\n",
    "\n",
    "# Remover duplicatas\n",
    "df = df.drop_duplicates()\n",
    "\n",
    "# Obter a forma final após remover duplicatas\n",
    "final_shape = df.shape\n",
    "\n",
    "# Exibir quantas duplicatas foram removidas\n",
    "print(f\"Removidas {initial_shape[0] - final_shape[0]} duplicatas.\")\n",
    "\n",
    "\"\"\"\n",
    "Remove duplicatas de um DataFrame e exibe a quantidade de duplicatas removidas.\n",
    "\n",
    "Funcionalidade:\n",
    "- Remove duplicatas do DataFrame.\n",
    "- Exibe a quantidade de duplicatas removidas com base na diferença entre o número de linhas antes e depois da remoção.\n",
    "\n",
    "Variáveis:\n",
    "- df (DataFrame): O DataFrame pandas que será modificado diretamente.\n",
    "\n",
    "Retorna:\n",
    "- df (DataFrame): O DataFrame após a remoção das duplicatas.\n",
    "\"\"\"\n"
   ]
  },
  {
   "cell_type": "markdown",
   "id": "2e3b3e2a",
   "metadata": {},
   "source": [
    "### 4. Análise Exploratória"
   ]
  },
  {
   "cell_type": "markdown",
   "id": "bea0d863",
   "metadata": {},
   "source": [
    "**4.1 Estatísticas Descritivas**"
   ]
  },
  {
   "cell_type": "code",
   "execution_count": 8,
   "id": "43939801",
   "metadata": {},
   "outputs": [
    {
     "name": "stdout",
     "output_type": "stream",
     "text": [
      "--- Estatísticas Descritivas ---\n"
     ]
    },
    {
     "data": {
      "text/html": [
       "<div>\n",
       "<style scoped>\n",
       "    .dataframe tbody tr th:only-of-type {\n",
       "        vertical-align: middle;\n",
       "    }\n",
       "\n",
       "    .dataframe tbody tr th {\n",
       "        vertical-align: top;\n",
       "    }\n",
       "\n",
       "    .dataframe thead th {\n",
       "        text-align: right;\n",
       "    }\n",
       "</style>\n",
       "<table border=\"1\" class=\"dataframe\">\n",
       "  <thead>\n",
       "    <tr style=\"text-align: right;\">\n",
       "      <th></th>\n",
       "      <th>id_estacao</th>\n",
       "      <th>tx_prefixo</th>\n",
       "      <th>tx_nome</th>\n",
       "      <th>cd_estacao_bu</th>\n",
       "    </tr>\n",
       "  </thead>\n",
       "  <tbody>\n",
       "    <tr>\n",
       "      <th>count</th>\n",
       "      <td>97.000000</td>\n",
       "      <td>97</td>\n",
       "      <td>97</td>\n",
       "      <td>97.000000</td>\n",
       "    </tr>\n",
       "    <tr>\n",
       "      <th>unique</th>\n",
       "      <td>NaN</td>\n",
       "      <td>97</td>\n",
       "      <td>97</td>\n",
       "      <td>NaN</td>\n",
       "    </tr>\n",
       "    <tr>\n",
       "      <th>top</th>\n",
       "      <td>NaN</td>\n",
       "      <td>MOC</td>\n",
       "      <td>JUVENTUS-MOOCA</td>\n",
       "      <td>NaN</td>\n",
       "    </tr>\n",
       "    <tr>\n",
       "      <th>freq</th>\n",
       "      <td>NaN</td>\n",
       "      <td>1</td>\n",
       "      <td>1</td>\n",
       "      <td>NaN</td>\n",
       "    </tr>\n",
       "    <tr>\n",
       "      <th>mean</th>\n",
       "      <td>58.123711</td>\n",
       "      <td>NaN</td>\n",
       "      <td>NaN</td>\n",
       "      <td>624.278351</td>\n",
       "    </tr>\n",
       "    <tr>\n",
       "      <th>std</th>\n",
       "      <td>32.180240</td>\n",
       "      <td>NaN</td>\n",
       "      <td>NaN</td>\n",
       "      <td>86.134070</td>\n",
       "    </tr>\n",
       "    <tr>\n",
       "      <th>min</th>\n",
       "      <td>1.000000</td>\n",
       "      <td>NaN</td>\n",
       "      <td>NaN</td>\n",
       "      <td>501.000000</td>\n",
       "    </tr>\n",
       "    <tr>\n",
       "      <th>25%</th>\n",
       "      <td>31.000000</td>\n",
       "      <td>NaN</td>\n",
       "      <td>NaN</td>\n",
       "      <td>558.000000</td>\n",
       "    </tr>\n",
       "    <tr>\n",
       "      <th>50%</th>\n",
       "      <td>58.000000</td>\n",
       "      <td>NaN</td>\n",
       "      <td>NaN</td>\n",
       "      <td>611.000000</td>\n",
       "    </tr>\n",
       "    <tr>\n",
       "      <th>75%</th>\n",
       "      <td>85.000000</td>\n",
       "      <td>NaN</td>\n",
       "      <td>NaN</td>\n",
       "      <td>703.000000</td>\n",
       "    </tr>\n",
       "    <tr>\n",
       "      <th>max</th>\n",
       "      <td>113.000000</td>\n",
       "      <td>NaN</td>\n",
       "      <td>NaN</td>\n",
       "      <td>803.000000</td>\n",
       "    </tr>\n",
       "  </tbody>\n",
       "</table>\n",
       "</div>"
      ],
      "text/plain": [
       "        id_estacao tx_prefixo         tx_nome  cd_estacao_bu\n",
       "count    97.000000         97              97      97.000000\n",
       "unique         NaN         97              97            NaN\n",
       "top            NaN        MOC  JUVENTUS-MOOCA            NaN\n",
       "freq           NaN          1               1            NaN\n",
       "mean     58.123711        NaN             NaN     624.278351\n",
       "std      32.180240        NaN             NaN      86.134070\n",
       "min       1.000000        NaN             NaN     501.000000\n",
       "25%      31.000000        NaN             NaN     558.000000\n",
       "50%      58.000000        NaN             NaN     611.000000\n",
       "75%      85.000000        NaN             NaN     703.000000\n",
       "max     113.000000        NaN             NaN     803.000000"
      ]
     },
     "metadata": {},
     "output_type": "display_data"
    },
    {
     "data": {
      "text/plain": [
       "\"\\nGera estatísticas descritivas detalhadas para o DataFrame, incluindo todas as colunas.\\n\\nUtiliza o método describe() do pandas com o parâmetro include='all'.\\n\""
      ]
     },
     "execution_count": 8,
     "metadata": {},
     "output_type": "execute_result"
    }
   ],
   "source": [
    "print(f\"--- Estatísticas Descritivas ---\")\n",
    "display(df.describe(include='all'))\n",
    "\n",
    "\"\"\"\n",
    "Gera estatísticas descritivas detalhadas para o DataFrame, incluindo todas as colunas.\n",
    "\n",
    "Utiliza o método describe() do pandas com o parâmetro include='all'.\n",
    "\"\"\"\n"
   ]
  },
  {
   "cell_type": "markdown",
   "id": "bc8d6496",
   "metadata": {},
   "source": [
    "**4.2 Análise de Distribuições**"
   ]
  },
  {
   "cell_type": "code",
   "execution_count": 9,
   "id": "813a1b7d",
   "metadata": {},
   "outputs": [
    {
     "name": "stdout",
     "output_type": "stream",
     "text": [
      "--- Distribuições de Variáveis no DataFrame ---\n"
     ]
    },
    {
     "data": {
      "image/png": "[encoded data removed]",
      "text/plain": [
       "<Figure size 800x400 with 1 Axes>"
      ]
     },
     "metadata": {},
     "output_type": "display_data"
    },
    {
     "data": {
      "image/png": "[encoded data removed]",
      "text/plain": [
       "<Figure size 800x400 with 1 Axes>"
      ]
     },
     "metadata": {},
     "output_type": "display_data"
    },
    {
     "data": {
      "text/plain": [
       "'\\nExibe distribuições de variáveis numéricas em um DataFrame.\\n\\nFuncionalidade:\\n- Para cada coluna numérica no DataFrame, cria um gráfico de histograma com uma linha de densidade (kde).\\n- O histograma exibe a distribuição dos valores presentes na coluna, ignorando valores ausentes (NaN).\\n\\nVariáveis:\\n- df (pd.DataFrame): O DataFrame contendo os dados a serem analisados.\\n\\nRetorna:\\n- Gera e exibe gráficos de distribuição para cada variável numérica no DataFrame.\\n'"
      ]
     },
     "execution_count": 9,
     "metadata": {},
     "output_type": "execute_result"
    }
   ],
   "source": [
    "# Exibir as distribuições das variáveis numéricas no DataFrame df\n",
    "print(f\"--- Distribuições de Variáveis no DataFrame ---\")\n",
    "for column in df.select_dtypes(include=[np.number]).columns:\n",
    "    plt.figure(figsize=(8, 4))\n",
    "    sns.histplot(df[column].dropna(), kde=True)\n",
    "    plt.title(f'Distribuição de {column}')\n",
    "    plt.show()\n",
    "\n",
    "\"\"\"\n",
    "Exibe distribuições de variáveis numéricas em um DataFrame.\n",
    "\n",
    "Funcionalidade:\n",
    "- Para cada coluna numérica no DataFrame, cria um gráfico de histograma com uma linha de densidade (kde).\n",
    "- O histograma exibe a distribuição dos valores presentes na coluna, ignorando valores ausentes (NaN).\n",
    "\n",
    "Variáveis:\n",
    "- df (pd.DataFrame): O DataFrame contendo os dados a serem analisados.\n",
    "\n",
    "Retorna:\n",
    "- Gera e exibe gráficos de distribuição para cada variável numérica no DataFrame.\n",
    "\"\"\"\n"
   ]
  },
  {
   "cell_type": "markdown",
   "id": "a908c4fd",
   "metadata": {},
   "source": [
    "**4.3 Análise de Correlações**"
   ]
  },
  {
   "cell_type": "code",
   "execution_count": 10,
   "id": "58af62d1",
   "metadata": {},
   "outputs": [
    {
     "data": {
      "image/png": "[encoded data removed]",
      "text/plain": [
       "<Figure size 1000x800 with 2 Axes>"
      ]
     },
     "metadata": {},
     "output_type": "display_data"
    },
    {
     "data": {
      "text/plain": [
       "\"\\nExibe a matriz de correlação para as variáveis numéricas de um DataFrame.\\n\\nFuncionalidade:\\n- Seleciona as colunas numéricas do DataFrame.\\n- Calcula a matriz de correlação entre as variáveis numéricas.\\n- Exibe um mapa de calor (heatmap) da matriz de correlação, com anotações dos valores.\\n- O mapa de calor usa a paleta de cores 'coolwarm' para destacar correlações positivas e negativas.\\n- Se não houver colunas numéricas suficientes, exibe uma mensagem informativa.\\n\\nVariáveis:\\n- df (pd.DataFrame): O DataFrame contendo as variáveis a serem analisadas.\\n\\nRetorna:\\n- Gera e exibe a matriz de correlação das variáveis numéricas no DataFrame, se aplicável.\\n\""
      ]
     },
     "execution_count": 10,
     "metadata": {},
     "output_type": "execute_result"
    }
   ],
   "source": [
    "# Selecionar apenas colunas numéricas para calcular a matriz de correlação\n",
    "numeric_df = df.select_dtypes(include=[np.number])\n",
    "\n",
    "# Verificar se há colunas numéricas suficientes para gerar a matriz de correlação\n",
    "if numeric_df.shape[1] > 1:\n",
    "    plt.figure(figsize=(10, 8))\n",
    "    corr = numeric_df.corr()\n",
    "    sns.heatmap(corr, annot=True, fmt=\".2f\", cmap='coolwarm')\n",
    "    plt.title('Matriz de Correlação')\n",
    "    plt.show()\n",
    "else:\n",
    "    print(\"Não há colunas numéricas suficientes para calcular a correlação.\")\n",
    "\n",
    "\"\"\"\n",
    "Exibe a matriz de correlação para as variáveis numéricas de um DataFrame.\n",
    "\n",
    "Funcionalidade:\n",
    "- Seleciona as colunas numéricas do DataFrame.\n",
    "- Calcula a matriz de correlação entre as variáveis numéricas.\n",
    "- Exibe um mapa de calor (heatmap) da matriz de correlação, com anotações dos valores.\n",
    "- O mapa de calor usa a paleta de cores 'coolwarm' para destacar correlações positivas e negativas.\n",
    "- Se não houver colunas numéricas suficientes, exibe uma mensagem informativa.\n",
    "\n",
    "Variáveis:\n",
    "- df (pd.DataFrame): O DataFrame contendo as variáveis a serem analisadas.\n",
    "\n",
    "Retorna:\n",
    "- Gera e exibe a matriz de correlação das variáveis numéricas no DataFrame, se aplicável.\n",
    "\"\"\"\n"
   ]
  },
  {
   "cell_type": "markdown",
   "id": "2134bb0f",
   "metadata": {},
   "source": [
    "**4.4 Análise com Skimpy**"
   ]
  },
  {
   "cell_type": "code",
   "execution_count": 11,
   "id": "060c147c",
   "metadata": {},
   "outputs": [
    {
     "data": {
      "text/html": [
       "<pre style=\"white-space:pre;overflow-x:auto;line-height:normal;font-family:Menlo,'DejaVu Sans Mono',consolas,'Courier New',monospace\">╭──────────────────────────────────────────────── skimpy summary ─────────────────────────────────────────────────╮\n",
       "│ <span style=\"font-style: italic\">         Data Summary         </span> <span style=\"font-style: italic\">      Data Types       </span>                                                          │\n",
       "│ ┏━━━━━━━━━━━━━━━━━━━┳━━━━━━━━┓ ┏━━━━━━━━━━━━━┳━━━━━━━┓                                                          │\n",
       "│ ┃<span style=\"color: #008080; text-decoration-color: #008080; font-weight: bold\"> dataframe         </span>┃<span style=\"color: #008080; text-decoration-color: #008080; font-weight: bold\"> Values </span>┃ ┃<span style=\"color: #008080; text-decoration-color: #008080; font-weight: bold\"> Column Type </span>┃<span style=\"color: #008080; text-decoration-color: #008080; font-weight: bold\"> Count </span>┃                                                          │\n",
       "│ ┡━━━━━━━━━━━━━━━━━━━╇━━━━━━━━┩ ┡━━━━━━━━━━━━━╇━━━━━━━┩                                                          │\n",
       "│ │ Number of rows    │ 97     │ │ int32       │ 2     │                                                          │\n",
       "│ │ Number of columns │ 4      │ │ string      │ 2     │                                                          │\n",
       "│ └───────────────────┴────────┘ └─────────────┴───────┘                                                          │\n",
       "│ <span style=\"font-style: italic\">                                                    number                                                    </span>  │\n",
       "│ ┏━━━━━━━━━━━━━━━━━━━━━┳━━━━━━┳━━━━━━━━┳━━━━━━━━━━┳━━━━━━━━━━┳━━━━━━━┳━━━━━━━┳━━━━━━━┳━━━━━━┳━━━━━━━┳━━━━━━━━━┓  │\n",
       "│ ┃<span style=\"font-weight: bold\"> column_name         </span>┃<span style=\"font-weight: bold\"> NA   </span>┃<span style=\"font-weight: bold\"> NA %   </span>┃<span style=\"font-weight: bold\"> mean     </span>┃<span style=\"font-weight: bold\"> sd       </span>┃<span style=\"font-weight: bold\"> p0    </span>┃<span style=\"font-weight: bold\"> p25   </span>┃<span style=\"font-weight: bold\"> p50   </span>┃<span style=\"font-weight: bold\"> p75  </span>┃<span style=\"font-weight: bold\"> p100  </span>┃<span style=\"font-weight: bold\"> hist    </span>┃  │\n",
       "│ ┡━━━━━━━━━━━━━━━━━━━━━╇━━━━━━╇━━━━━━━━╇━━━━━━━━━━╇━━━━━━━━━━╇━━━━━━━╇━━━━━━━╇━━━━━━━╇━━━━━━╇━━━━━━━╇━━━━━━━━━┩  │\n",
       "│ │ <span style=\"color: #af87ff; text-decoration-color: #af87ff\">id_estacao         </span> │ <span style=\"color: #008080; text-decoration-color: #008080\">   0</span> │ <span style=\"color: #008080; text-decoration-color: #008080\">     0</span> │ <span style=\"color: #008080; text-decoration-color: #008080\">   58.12</span> │ <span style=\"color: #008080; text-decoration-color: #008080\">   32.18</span> │ <span style=\"color: #008080; text-decoration-color: #008080\">    1</span> │ <span style=\"color: #008080; text-decoration-color: #008080\">   31</span> │ <span style=\"color: #008080; text-decoration-color: #008080\">   58</span> │ <span style=\"color: #008080; text-decoration-color: #008080\">  85</span> │ <span style=\"color: #008080; text-decoration-color: #008080\">  113</span> │ <span style=\"color: #008000; text-decoration-color: #008000\">▇▇▇▇▇▇ </span> │  │\n",
       "│ │ <span style=\"color: #af87ff; text-decoration-color: #af87ff\">cd_estacao_bu      </span> │ <span style=\"color: #008080; text-decoration-color: #008080\">   0</span> │ <span style=\"color: #008080; text-decoration-color: #008080\">     0</span> │ <span style=\"color: #008080; text-decoration-color: #008080\">   624.3</span> │ <span style=\"color: #008080; text-decoration-color: #008080\">   86.13</span> │ <span style=\"color: #008080; text-decoration-color: #008080\">  501</span> │ <span style=\"color: #008080; text-decoration-color: #008080\">  558</span> │ <span style=\"color: #008080; text-decoration-color: #008080\">  611</span> │ <span style=\"color: #008080; text-decoration-color: #008080\"> 703</span> │ <span style=\"color: #008080; text-decoration-color: #008080\">  803</span> │ <span style=\"color: #008000; text-decoration-color: #008000\">▇▇▇▆▅▅ </span> │  │\n",
       "│ └─────────────────────┴──────┴────────┴──────────┴──────────┴───────┴───────┴───────┴──────┴───────┴─────────┘  │\n",
       "│ <span style=\"font-style: italic\">                                                    string                                                    </span>  │\n",
       "│ ┏━━━━━━━━━━━━━━━━━━━━━━━━━━━┳━━━━━━━━━┳━━━━━━━━━━━━┳━━━━━━━━━━━━━━━━━━━━━━━━━━━━━━┳━━━━━━━━━━━━━━━━━━━━━━━━━━┓  │\n",
       "│ ┃<span style=\"font-weight: bold\"> column_name               </span>┃<span style=\"font-weight: bold\"> NA      </span>┃<span style=\"font-weight: bold\"> NA %       </span>┃<span style=\"font-weight: bold\"> words per row                </span>┃<span style=\"font-weight: bold\"> total words              </span>┃  │\n",
       "│ ┡━━━━━━━━━━━━━━━━━━━━━━━━━━━╇━━━━━━━━━╇━━━━━━━━━━━━╇━━━━━━━━━━━━━━━━━━━━━━━━━━━━━━╇━━━━━━━━━━━━━━━━━━━━━━━━━━┩  │\n",
       "│ │ <span style=\"color: #af87ff; text-decoration-color: #af87ff\">tx_prefixo               </span> │ <span style=\"color: #008080; text-decoration-color: #008080\">      0</span> │ <span style=\"color: #008080; text-decoration-color: #008080\">         0</span> │ <span style=\"color: #008080; text-decoration-color: #008080\">                           1</span> │ <span style=\"color: #008080; text-decoration-color: #008080\">                      97</span> │  │\n",
       "│ │ <span style=\"color: #af87ff; text-decoration-color: #af87ff\">tx_nome                  </span> │ <span style=\"color: #008080; text-decoration-color: #008080\">      0</span> │ <span style=\"color: #008080; text-decoration-color: #008080\">         0</span> │ <span style=\"color: #008080; text-decoration-color: #008080\">                         1.8</span> │ <span style=\"color: #008080; text-decoration-color: #008080\">                     171</span> │  │\n",
       "│ └───────────────────────────┴─────────┴────────────┴──────────────────────────────┴──────────────────────────┘  │\n",
       "╰────────────────────────────────────────────────────── End ──────────────────────────────────────────────────────╯\n",
       "</pre>\n"
      ],
      "text/plain": [
       "╭──────────────────────────────────────────────── skimpy summary ─────────────────────────────────────────────────╮\n",
       "│ \u001b[3m         Data Summary         \u001b[0m \u001b[3m      Data Types       \u001b[0m                                                          │\n",
       "│ ┏━━━━━━━━━━━━━━━━━━━┳━━━━━━━━┓ ┏━━━━━━━━━━━━━┳━━━━━━━┓                                                          │\n",
       "│ ┃\u001b[1;36m \u001b[0m\u001b[1;36mdataframe        \u001b[0m\u001b[1;36m \u001b[0m┃\u001b[1;36m \u001b[0m\u001b[1;36mValues\u001b[0m\u001b[1;36m \u001b[0m┃ ┃\u001b[1;36m \u001b[0m\u001b[1;36mColumn Type\u001b[0m\u001b[1;36m \u001b[0m┃\u001b[1;36m \u001b[0m\u001b[1;36mCount\u001b[0m\u001b[1;36m \u001b[0m┃                                                          │\n",
       "│ ┡━━━━━━━━━━━━━━━━━━━╇━━━━━━━━┩ ┡━━━━━━━━━━━━━╇━━━━━━━┩                                                          │\n",
       "│ │ Number of rows    │ 97     │ │ int32       │ 2     │                                                          │\n",
       "│ │ Number of columns │ 4      │ │ string      │ 2     │                                                          │\n",
       "│ └───────────────────┴────────┘ └─────────────┴───────┘                                                          │\n",
       "│ \u001b[3m                                                    number                                                    \u001b[0m  │\n",
       "│ ┏━━━━━━━━━━━━━━━━━━━━━┳━━━━━━┳━━━━━━━━┳━━━━━━━━━━┳━━━━━━━━━━┳━━━━━━━┳━━━━━━━┳━━━━━━━┳━━━━━━┳━━━━━━━┳━━━━━━━━━┓  │\n",
       "│ ┃\u001b[1m \u001b[0m\u001b[1mcolumn_name        \u001b[0m\u001b[1m \u001b[0m┃\u001b[1m \u001b[0m\u001b[1mNA  \u001b[0m\u001b[1m \u001b[0m┃\u001b[1m \u001b[0m\u001b[1mNA %  \u001b[0m\u001b[1m \u001b[0m┃\u001b[1m \u001b[0m\u001b[1mmean    \u001b[0m\u001b[1m \u001b[0m┃\u001b[1m \u001b[0m\u001b[1msd      \u001b[0m\u001b[1m \u001b[0m┃\u001b[1m \u001b[0m\u001b[1mp0   \u001b[0m\u001b[1m \u001b[0m┃\u001b[1m \u001b[0m\u001b[1mp25  \u001b[0m\u001b[1m \u001b[0m┃\u001b[1m \u001b[0m\u001b[1mp50  \u001b[0m\u001b[1m \u001b[0m┃\u001b[1m \u001b[0m\u001b[1mp75 \u001b[0m\u001b[1m \u001b[0m┃\u001b[1m \u001b[0m\u001b[1mp100 \u001b[0m\u001b[1m \u001b[0m┃\u001b[1m \u001b[0m\u001b[1mhist   \u001b[0m\u001b[1m \u001b[0m┃  │\n",
       "│ ┡━━━━━━━━━━━━━━━━━━━━━╇━━━━━━╇━━━━━━━━╇━━━━━━━━━━╇━━━━━━━━━━╇━━━━━━━╇━━━━━━━╇━━━━━━━╇━━━━━━╇━━━━━━━╇━━━━━━━━━┩  │\n",
       "│ │ \u001b[38;5;141mid_estacao         \u001b[0m │ \u001b[36m   0\u001b[0m │ \u001b[36m     0\u001b[0m │ \u001b[36m   58.12\u001b[0m │ \u001b[36m   32.18\u001b[0m │ \u001b[36m    1\u001b[0m │ \u001b[36m   31\u001b[0m │ \u001b[36m   58\u001b[0m │ \u001b[36m  85\u001b[0m │ \u001b[36m  113\u001b[0m │ \u001b[32m▇▇▇▇▇▇ \u001b[0m │  │\n",
       "│ │ \u001b[38;5;141mcd_estacao_bu      \u001b[0m │ \u001b[36m   0\u001b[0m │ \u001b[36m     0\u001b[0m │ \u001b[36m   624.3\u001b[0m │ \u001b[36m   86.13\u001b[0m │ \u001b[36m  501\u001b[0m │ \u001b[36m  558\u001b[0m │ \u001b[36m  611\u001b[0m │ \u001b[36m 703\u001b[0m │ \u001b[36m  803\u001b[0m │ \u001b[32m▇▇▇▆▅▅ \u001b[0m │  │\n",
       "│ └─────────────────────┴──────┴────────┴──────────┴──────────┴───────┴───────┴───────┴──────┴───────┴─────────┘  │\n",
       "│ \u001b[3m                                                    string                                                    \u001b[0m  │\n",
       "│ ┏━━━━━━━━━━━━━━━━━━━━━━━━━━━┳━━━━━━━━━┳━━━━━━━━━━━━┳━━━━━━━━━━━━━━━━━━━━━━━━━━━━━━┳━━━━━━━━━━━━━━━━━━━━━━━━━━┓  │\n",
       "│ ┃\u001b[1m \u001b[0m\u001b[1mcolumn_name              \u001b[0m\u001b[1m \u001b[0m┃\u001b[1m \u001b[0m\u001b[1mNA     \u001b[0m\u001b[1m \u001b[0m┃\u001b[1m \u001b[0m\u001b[1mNA %      \u001b[0m\u001b[1m \u001b[0m┃\u001b[1m \u001b[0m\u001b[1mwords per row               \u001b[0m\u001b[1m \u001b[0m┃\u001b[1m \u001b[0m\u001b[1mtotal words             \u001b[0m\u001b[1m \u001b[0m┃  │\n",
       "│ ┡━━━━━━━━━━━━━━━━━━━━━━━━━━━╇━━━━━━━━━╇━━━━━━━━━━━━╇━━━━━━━━━━━━━━━━━━━━━━━━━━━━━━╇━━━━━━━━━━━━━━━━━━━━━━━━━━┩  │\n",
       "│ │ \u001b[38;5;141mtx_prefixo               \u001b[0m │ \u001b[36m      0\u001b[0m │ \u001b[36m         0\u001b[0m │ \u001b[36m                           1\u001b[0m │ \u001b[36m                      97\u001b[0m │  │\n",
       "│ │ \u001b[38;5;141mtx_nome                  \u001b[0m │ \u001b[36m      0\u001b[0m │ \u001b[36m         0\u001b[0m │ \u001b[36m                         1.8\u001b[0m │ \u001b[36m                     171\u001b[0m │  │\n",
       "│ └───────────────────────────┴─────────┴────────────┴──────────────────────────────┴──────────────────────────┘  │\n",
       "╰────────────────────────────────────────────────────── End ──────────────────────────────────────────────────────╯\n"
      ]
     },
     "metadata": {},
     "output_type": "display_data"
    }
   ],
   "source": [
    "def analisar_dados():\n",
    "    \"\"\"\n",
    "    Faz uma análise resumida do DataFrame.\n",
    "\n",
    "    Usa a função `skim()` para exibir um resumo com estatísticas básicas \n",
    "    e informações sobre os dados do DataFrame.\n",
    "\n",
    "    Exemplo:\n",
    "        skim(df)\n",
    "    \"\"\"\n",
    "    skim(df)\n",
    "\n",
    "analisar_dados()"
   ]
  },
  {
   "cell_type": "markdown",
   "id": "44ab0048",
   "metadata": {},
   "source": [
    "### 5. Análise Avançada"
   ]
  },
  {
   "cell_type": "markdown",
   "id": "6b04c8dc",
   "metadata": {},
   "source": [
    "**5.1 Análise de Componentes Principais (PCA)**"
   ]
  },
  {
   "cell_type": "code",
   "execution_count": 12,
   "id": "178c537b",
   "metadata": {},
   "outputs": [
    {
     "name": "stdout",
     "output_type": "stream",
     "text": [
      "PCA realizado no DataFrame:\n",
      "Variância explicada por componente: [0.56875508 0.43124492]\n",
      "\n"
     ]
    },
    {
     "data": {
      "text/plain": [
       "'\\nRealiza a Análise de Componentes Principais (PCA) para reduzir a dimensionalidade dos dados.\\n\\nFuncionalidade:\\n- Seleciona as colunas numéricas do DataFrame e remove valores ausentes.\\n- Escalona os dados numéricos para média 0 e variância 1.\\n- Aplica o PCA para reduzir a dimensionalidade, mantendo o número especificado de componentes principais.\\n\\nArgs:\\n    df (pd.DataFrame): DataFrame com os dados a serem analisados.\\n    n_componentes (int): Número de componentes principais a serem mantidos.\\n\\nReturns:\\n    pd.DataFrame: DataFrame com as componentes principais.\\n    PCA: Objeto PCA treinado, contendo informações como variância explicada.\\n'"
      ]
     },
     "execution_count": 12,
     "metadata": {},
     "output_type": "execute_result"
    }
   ],
   "source": [
    "def realizar_pca(df, n_componentes=2):\n",
    "    \"\"\"\n",
    "    Realiza a Análise de Componentes Principais (PCA) para reduzir a dimensionalidade dos dados.\n",
    "\n",
    "    Args:\n",
    "        df (pd.DataFrame): DataFrame com os dados a serem analisados.\n",
    "        n_componentes (int): Número de componentes principais a serem mantidos.\n",
    "\n",
    "    Returns:\n",
    "        pd.DataFrame: DataFrame com as componentes principais.\n",
    "        PCA: Objeto PCA treinado.\n",
    "    \"\"\"\n",
    "    # Selecionar apenas variáveis numéricas e remover valores ausentes\n",
    "    numeric_df = df.select_dtypes(include=[np.number]).dropna()\n",
    "\n",
    "    # Escalonar os dados\n",
    "    scaler = StandardScaler()\n",
    "    scaled_data = scaler.fit_transform(numeric_df)\n",
    "\n",
    "    # Aplicar PCA\n",
    "    pca = PCA(n_components=n_componentes)\n",
    "    principal_components = pca.fit_transform(scaled_data)\n",
    "\n",
    "    # Criar DataFrame das componentes principais\n",
    "    pca_df = pd.DataFrame(data=principal_components,\n",
    "                          columns=[f'PC{i+1}' for i in range(n_componentes)])\n",
    "\n",
    "    return pca_df, pca\n",
    "\n",
    "# Aplicar PCA no DataFrame df\n",
    "pca_df, pca_modelo = realizar_pca(df)\n",
    "\n",
    "# Exibir os resultados\n",
    "print(f\"PCA realizado no DataFrame:\")\n",
    "print(f\"Variância explicada por componente: {pca_modelo.explained_variance_ratio_}\\n\")\n",
    "\n",
    "\"\"\"\n",
    "Realiza a Análise de Componentes Principais (PCA) para reduzir a dimensionalidade dos dados.\n",
    "\n",
    "Funcionalidade:\n",
    "- Seleciona as colunas numéricas do DataFrame e remove valores ausentes.\n",
    "- Escalona os dados numéricos para média 0 e variância 1.\n",
    "- Aplica o PCA para reduzir a dimensionalidade, mantendo o número especificado de componentes principais.\n",
    "\n",
    "Args:\n",
    "    df (pd.DataFrame): DataFrame com os dados a serem analisados.\n",
    "    n_componentes (int): Número de componentes principais a serem mantidos.\n",
    "\n",
    "Returns:\n",
    "    pd.DataFrame: DataFrame com as componentes principais.\n",
    "    PCA: Objeto PCA treinado, contendo informações como variância explicada.\n",
    "\"\"\"\n"
   ]
  },
  {
   "cell_type": "markdown",
   "id": "04fb34e7",
   "metadata": {},
   "source": [
    "**5.2 Clustering com KMeans**"
   ]
  },
  {
   "cell_type": "code",
   "execution_count": 13,
   "id": "5729f2ce",
   "metadata": {},
   "outputs": [
    {
     "data": {
      "image/png": "[encoded data removed]",
      "text/plain": [
       "<Figure size 800x600 with 1 Axes>"
      ]
     },
     "metadata": {},
     "output_type": "display_data"
    }
   ],
   "source": [
    "def plot_grafico_cotovelo(df, max_clusters=10):\n",
    "    \"\"\"\n",
    "    Plota o gráfico do cotovelo para identificar o número ideal de clusters.\n",
    "\n",
    "    Args:\n",
    "        df (pd.DataFrame): DataFrame com os dados a serem analisados.\n",
    "        max_clusters (int): Número máximo de clusters a serem testados.\n",
    "\n",
    "    Returns:\n",
    "        None: Exibe o gráfico do cotovelo.\n",
    "    \"\"\"\n",
    "    # Selecionar apenas variáveis numéricas e remover valores ausentes\n",
    "    numeric_df = df.select_dtypes(include=[np.number]).dropna()\n",
    "\n",
    "    # Escalonar os dados\n",
    "    scaler = StandardScaler()\n",
    "    scaled_data = scaler.fit_transform(numeric_df)\n",
    "\n",
    "    # Lista para armazenar a soma das distâncias quadradas dentro dos clusters (inertia)\n",
    "    inertias = []\n",
    "\n",
    "    # Aplicar KMeans com diferentes números de clusters\n",
    "    for k in range(1, max_clusters + 1):\n",
    "        kmeans = KMeans(n_clusters=k, random_state=42)\n",
    "        kmeans.fit(scaled_data)\n",
    "        inertias.append(kmeans.inertia_)\n",
    "\n",
    "    # Plotar o gráfico do cotovelo\n",
    "    plt.figure(figsize=(8, 6))\n",
    "    plt.plot(range(1, max_clusters + 1), inertias, marker='o', linestyle='--')\n",
    "    plt.title('Gráfico do Cotovelo')\n",
    "    plt.xlabel('Número de Clusters')\n",
    "    plt.ylabel('Inertia')\n",
    "    plt.show()\n",
    "\n",
    "# Aplicar o gráfico do cotovelo no DataFrame df\n",
    "plot_grafico_cotovelo(df, max_clusters=10)\n",
    "\n"
   ]
  },
  {
   "cell_type": "code",
   "execution_count": 14,
   "id": "6455bf62",
   "metadata": {},
   "outputs": [],
   "source": [
    "def realizar_kmeans(df, n_clusters=4):\n",
    "    \"\"\"\n",
    "    Aplica o algoritmo de clustering KMeans para agrupar os dados de um DataFrame.\n",
    "\n",
    "    Args:\n",
    "        df (pd.DataFrame): DataFrame com os dados a serem agrupados.\n",
    "        n_clusters (int): Número de clusters a serem formados (default = 3).\n",
    "\n",
    "    Returns:\n",
    "        KMeans: Modelo KMeans treinado.\n",
    "        np.ndarray: Rótulos dos clusters para cada amostra.\n",
    "    \"\"\"\n",
    "    # Selecionar apenas variáveis numéricas e remover valores ausentes\n",
    "    numeric_df = df.select_dtypes(include=[np.number]).dropna()\n",
    "\n",
    "    # Escalonar os dados\n",
    "    scaler = StandardScaler()\n",
    "    scaled_data = scaler.fit_transform(numeric_df)\n",
    "\n",
    "    # Aplicar KMeans\n",
    "    kmeans = KMeans(n_clusters=n_clusters, random_state=42)\n",
    "    kmeans.fit(scaled_data)\n",
    "    labels = kmeans.labels_\n",
    "\n",
    "    return kmeans, labels, scaled_data\n",
    "\n",
    "# Aplicar KMeans no DataFrame df\n",
    "kmeans_modelo, labels, scaled_data = realizar_kmeans(df, n_clusters=4)"
   ]
  },
  {
   "cell_type": "code",
   "execution_count": 15,
   "id": "a810ca44",
   "metadata": {},
   "outputs": [
    {
     "data": {
      "application/vnd.plotly.v1+json": {
       "config": {
        "plotlyServerURL": "https://plot.ly"
       },
       "data": [
        {
         "hovertemplate": "Cluster=1<br>PC1=%{x}<br>PC2=%{y}<extra></extra>",
         "legendgroup": "1",
         "marker": {
          "color": "#636efa",
          "symbol": "circle"
         },
         "mode": "markers",
         "name": "1",
         "orientation": "v",
         "showlegend": true,
         "type": "scatter",
         "x": [
          0.277263297651425,
          0.3709724958123596,
          0.7145728890691198,
          0.8707548860040107,
          0.9332276847779671,
          1.0269368829389016,
          1.0581732823258798,
          1.2768280780347272,
          0.21479049887746862,
          0.18355409949049042,
          1.3393008768086836,
          0.745809288456098,
          0.9019912853909889,
          1.089409681712858,
          1.1518824804868144,
          0.6208636909081852,
          0.9644640841649453,
          1.1206460810998362,
          0.24602689826444682,
          0.589627291521207,
          1.3705372761956618,
          1.40177367558264,
          1.4330100749696182,
          1.4642464743565964,
          1.4954828737435746,
          1.557955672517531,
          1.5891920719045092,
          1.6204284712914874,
          1.6516648706784656,
          1.714137669452422,
          1.6829012700654438
         ],
         "xaxis": "x",
         "y": [
          0.45188625589596576,
          0.37019542316077925,
          0.32351494731210123,
          -0.2483208818342045,
          0.41687589900945726,
          -0.259991000796374,
          0.942031252307085,
          -0.2016404059855265,
          0.3468551852364402,
          0.4752264938203048,
          -0.09660933532600094,
          0.3118448283499317,
          0.38186554212294876,
          0.4285460179716268,
          0.40520578004728774,
          0.3935356610851182,
          1.5722176762642381,
          1.6188981521129162,
          0.9070208954205764,
          0.965371490231424,
          1.5955579141885772,
          1.5605475573020686,
          1.5372073193777296,
          -0.08493921636383144,
          -0.07326909740166193,
          -0.6217646886236287,
          -0.6100945696614591,
          2.074032791637527,
          2.0857029105996965,
          -0.11994957325033995,
          -0.06159897843949242
         ],
         "yaxis": "y"
        },
        {
         "hovertemplate": "Cluster=3<br>PC1=%{x}<br>PC2=%{y}<extra></extra>",
         "legendgroup": "3",
         "marker": {
          "color": "#EF553B",
          "symbol": "circle"
         },
         "mode": "markers",
         "name": "3",
         "orientation": "v",
         "showlegend": true,
         "type": "scatter",
         "x": [
          0.3084996970384032,
          0.3397360964253814,
          0.4646816939732942,
          0.5271544927472506,
          0.5583908921342288,
          0.6521000902951634,
          0.6833364896821416,
          0.7770456878430761,
          0.8395184866170325,
          1.2143552792607708,
          -0.31622829070116065,
          -0.25375549192720426,
          -0.2225190925402261,
          -0.1912826931532479,
          -0.1600462937662697,
          -0.1288098943792915,
          -0.06633709560533511,
          -0.035100696218356923,
          0.02737210255559946,
          0.058608501942577655,
          0.08984490132955585,
          0.15231770010351223,
          0.49591809336027237,
          1.5267192731305528
         ],
         "xaxis": "x",
         "y": [
          -0.2249806439098655,
          -0.7034555213588152,
          -1.3919925401268158,
          -1.345312064278138,
          -1.3569821832403075,
          -0.6917854023966457,
          -0.7267957592831542,
          -0.8318268299426798,
          -0.7618061161696627,
          -1.368652302202477,
          -0.8551670678670187,
          -0.14328981117467895,
          -0.8201567109805102,
          -1.3803224211646463,
          -0.7968164730561712,
          -0.8084865920183407,
          -0.6334348075857982,
          -1.2752913505051209,
          -0.2716611197585435,
          -0.6567750455101371,
          -1.2869614694672904,
          -1.3336419453159685,
          -0.16663004909901796,
          -1.2636212315429514
         ],
         "yaxis": "y"
        },
        {
         "hovertemplate": "Cluster=2<br>PC1=%{x}<br>PC2=%{y}<extra></extra>",
         "legendgroup": "2",
         "marker": {
          "color": "#00cc96",
          "symbol": "circle"
         },
         "mode": "markers",
         "name": "2",
         "orientation": "v",
         "showlegend": true,
         "type": "scatter",
         "x": [
          -1.659393464341223,
          -1.5656842661802883,
          -1.5344478667933101,
          -1.503211467406332,
          -1.4719750680193537,
          -1.2533202723105066,
          -1.1283746747625938,
          -1.0659018759886374,
          -1.003429077214681,
          -0.9097198790537464,
          -0.8784834796667682,
          -0.691065083344899,
          -1.7843390618891357,
          -0.6598286839579208,
          -0.6285922845709426,
          -0.5661194857969862,
          -0.47241028763605164,
          -0.44117388824907344,
          -1.4407386686323758,
          -1.1908474735365502,
          -1.0971382753756156,
          -1.3470294704714412
         ],
         "xaxis": "x",
         "y": [
          -0.7734762351318322,
          -1.4270028970133244,
          -1.2519511125807818,
          -0.7851463540940017,
          -0.21331052494769598,
          -1.29863158842946,
          -0.13161969221250944,
          -0.15495993013684844,
          -0.7151256403209847,
          -0.6684451644723066,
          -0.8434969489048493,
          -1.438673015975494,
          -1.321971826353799,
          -1.4153327780511549,
          -0.7384658782453237,
          -0.236650762872035,
          -0.17830016806118748,
          -0.6801152834344761,
          -1.3103017073916294,
          -0.7501359972074931,
          -0.18997028702335697,
          -1.4036626590889854
         ],
         "yaxis": "y"
        },
        {
         "hovertemplate": "Cluster=0<br>PC1=%{x}<br>PC2=%{y}<extra></extra>",
         "legendgroup": "0",
         "marker": {
          "color": "#ab63fa",
          "symbol": "circle"
         },
         "mode": "markers",
         "name": "0",
         "orientation": "v",
         "showlegend": true,
         "type": "scatter",
         "x": [
          -1.4095022692453976,
          -1.315793071084463,
          -0.9721926778277027,
          -0.9409562784407246,
          -0.84724708027979,
          -0.8160106808928118,
          -0.7535378821188554,
          -0.5036466870230298,
          -0.37870108947511705,
          -0.34746469008813885,
          -0.28499189131418246,
          -0.09757349499231331,
          -0.003864296831378732,
          -1.6281570649542447,
          -1.3782658698584194,
          -1.2220838729235284,
          -1.6906298637282011,
          -0.7223014827318772,
          -0.534883086410008,
          0.12108130071653404
         ],
         "xaxis": "x",
         "y": [
          1.6305682710750857,
          0.9537013712692545,
          1.5838877952264077,
          1.035392204004441,
          2.0623626726753574,
          1.5255372004155603,
          0.895350776458407,
          0.33518506627427075,
          0.44021613693379624,
          1.548877438339899,
          1.5138670814533908,
          1.012051966080102,
          0.9303611333449154,
          1.5021969624912213,
          0.9186910143827459,
          0.35852530419860973,
          0.988711728155763,
          0.9770416091935935,
          1.0003818471179324,
          1.0237220850422715
         ],
         "yaxis": "y"
        },
        {
         "marker": {
          "color": "red",
          "size": 12,
          "symbol": "x"
         },
         "mode": "markers",
         "name": "Centroid 1",
         "type": "scatter",
         "x": [
          -0.7863361014751825
         ],
         "y": [
          1.1118314832066511
         ]
        },
        {
         "marker": {
          "color": "red",
          "size": 12,
          "symbol": "x"
         },
         "mode": "markers",
         "name": "Centroid 2",
         "type": "scatter",
         "x": [
          1.054142779179173
         ],
         "y": [
          0.5414826530893962
         ]
        },
        {
         "marker": {
          "color": "red",
          "size": 12,
          "symbol": "x"
         },
         "mode": "markers",
         "name": "Centroid 3",
         "type": "scatter",
         "x": [
          -1.1042374570544742
         ],
         "y": [
          -0.8148521114522513
         ]
        },
        {
         "marker": {
          "color": "red",
          "size": 12,
          "symbol": "x"
         },
         "mode": "markers",
         "name": "Centroid 4",
         "type": "scatter",
         "x": [
          0.305896663756155
         ],
         "y": [
          -0.8789935607481149
         ]
        }
       ],
       "layout": {
        "legend": {
         "title": {
          "text": "Cluster"
         },
         "tracegroupgap": 0
        },
        "template": {
         "data": {
          "bar": [
           {
            "error_x": {
             "color": "#2a3f5f"
            },
            "error_y": {
             "color": "#2a3f5f"
            },
            "marker": {
             "line": {
              "color": "#E5ECF6",
              "width": 0.5
             },
             "pattern": {
              "fillmode": "overlay",
              "size": 10,
              "solidity": 0.2
             }
            },
            "type": "bar"
           }
          ],
          "barpolar": [
           {
            "marker": {
             "line": {
              "color": "#E5ECF6",
              "width": 0.5
             },
             "pattern": {
              "fillmode": "overlay",
              "size": 10,
              "solidity": 0.2
             }
            },
            "type": "barpolar"
           }
          ],
          "carpet": [
           {
            "aaxis": {
             "endlinecolor": "#2a3f5f",
             "gridcolor": "white",
             "linecolor": "white",
             "minorgridcolor": "white",
             "startlinecolor": "#2a3f5f"
            },
            "baxis": {
             "endlinecolor": "#2a3f5f",
             "gridcolor": "white",
             "linecolor": "white",
             "minorgridcolor": "white",
             "startlinecolor": "#2a3f5f"
            },
            "type": "carpet"
           }
          ],
          "choropleth": [
           {
            "colorbar": {
             "outlinewidth": 0,
             "ticks": ""
            },
            "type": "choropleth"
           }
          ],
          "contour": [
           {
            "colorbar": {
             "outlinewidth": 0,
             "ticks": ""
            },
            "colorscale": [
             [
              0,
              "#0d0887"
             ],
             [
              0.1111111111111111,
              "#46039f"
             ],
             [
              0.2222222222222222,
              "#7201a8"
             ],
             [
              0.3333333333333333,
              "#9c179e"
             ],
             [
              0.4444444444444444,
              "#bd3786"
             ],
             [
              0.5555555555555556,
              "#d8576b"
             ],
             [
              0.6666666666666666,
              "#ed7953"
             ],
             [
              0.7777777777777778,
              "#fb9f3a"
             ],
             [
              0.8888888888888888,
              "#fdca26"
             ],
             [
              1,
              "#f0f921"
             ]
            ],
            "type": "contour"
           }
          ],
          "contourcarpet": [
           {
            "colorbar": {
             "outlinewidth": 0,
             "ticks": ""
            },
            "type": "contourcarpet"
           }
          ],
          "heatmap": [
           {
            "colorbar": {
             "outlinewidth": 0,
             "ticks": ""
            },
            "colorscale": [
             [
              0,
              "#0d0887"
             ],
             [
              0.1111111111111111,
              "#46039f"
             ],
             [
              0.2222222222222222,
              "#7201a8"
             ],
             [
              0.3333333333333333,
              "#9c179e"
             ],
             [
              0.4444444444444444,
              "#bd3786"
             ],
             [
              0.5555555555555556,
              "#d8576b"
             ],
             [
              0.6666666666666666,
              "#ed7953"
             ],
             [
              0.7777777777777778,
              "#fb9f3a"
             ],
             [
              0.8888888888888888,
              "#fdca26"
             ],
             [
              1,
              "#f0f921"
             ]
            ],
            "type": "heatmap"
           }
          ],
          "heatmapgl": [
           {
            "colorbar": {
             "outlinewidth": 0,
             "ticks": ""
            },
            "colorscale": [
             [
              0,
              "#0d0887"
             ],
             [
              0.1111111111111111,
              "#46039f"
             ],
             [
              0.2222222222222222,
              "#7201a8"
             ],
             [
              0.3333333333333333,
              "#9c179e"
             ],
             [
              0.4444444444444444,
              "#bd3786"
             ],
             [
              0.5555555555555556,
              "#d8576b"
             ],
             [
              0.6666666666666666,
              "#ed7953"
             ],
             [
              0.7777777777777778,
              "#fb9f3a"
             ],
             [
              0.8888888888888888,
              "#fdca26"
             ],
             [
              1,
              "#f0f921"
             ]
            ],
            "type": "heatmapgl"
           }
          ],
          "histogram": [
           {
            "marker": {
             "pattern": {
              "fillmode": "overlay",
              "size": 10,
              "solidity": 0.2
             }
            },
            "type": "histogram"
           }
          ],
          "histogram2d": [
           {
            "colorbar": {
             "outlinewidth": 0,
             "ticks": ""
            },
            "colorscale": [
             [
              0,
              "#0d0887"
             ],
             [
              0.1111111111111111,
              "#46039f"
             ],
             [
              0.2222222222222222,
              "#7201a8"
             ],
             [
              0.3333333333333333,
              "#9c179e"
             ],
             [
              0.4444444444444444,
              "#bd3786"
             ],
             [
              0.5555555555555556,
              "#d8576b"
             ],
             [
              0.6666666666666666,
              "#ed7953"
             ],
             [
              0.7777777777777778,
              "#fb9f3a"
             ],
             [
              0.8888888888888888,
              "#fdca26"
             ],
             [
              1,
              "#f0f921"
             ]
            ],
            "type": "histogram2d"
           }
          ],
          "histogram2dcontour": [
           {
            "colorbar": {
             "outlinewidth": 0,
             "ticks": ""
            },
            "colorscale": [
             [
              0,
              "#0d0887"
             ],
             [
              0.1111111111111111,
              "#46039f"
             ],
             [
              0.2222222222222222,
              "#7201a8"
             ],
             [
              0.3333333333333333,
              "#9c179e"
             ],
             [
              0.4444444444444444,
              "#bd3786"
             ],
             [
              0.5555555555555556,
              "#d8576b"
             ],
             [
              0.6666666666666666,
              "#ed7953"
             ],
             [
              0.7777777777777778,
              "#fb9f3a"
             ],
             [
              0.8888888888888888,
              "#fdca26"
             ],
             [
              1,
              "#f0f921"
             ]
            ],
            "type": "histogram2dcontour"
           }
          ],
          "mesh3d": [
           {
            "colorbar": {
             "outlinewidth": 0,
             "ticks": ""
            },
            "type": "mesh3d"
           }
          ],
          "parcoords": [
           {
            "line": {
             "colorbar": {
              "outlinewidth": 0,
              "ticks": ""
             }
            },
            "type": "parcoords"
           }
          ],
          "pie": [
           {
            "automargin": true,
            "type": "pie"
           }
          ],
          "scatter": [
           {
            "fillpattern": {
             "fillmode": "overlay",
             "size": 10,
             "solidity": 0.2
            },
            "type": "scatter"
           }
          ],
          "scatter3d": [
           {
            "line": {
             "colorbar": {
              "outlinewidth": 0,
              "ticks": ""
             }
            },
            "marker": {
             "colorbar": {
              "outlinewidth": 0,
              "ticks": ""
             }
            },
            "type": "scatter3d"
           }
          ],
          "scattercarpet": [
           {
            "marker": {
             "colorbar": {
              "outlinewidth": 0,
              "ticks": ""
             }
            },
            "type": "scattercarpet"
           }
          ],
          "scattergeo": [
           {
            "marker": {
             "colorbar": {
              "outlinewidth": 0,
              "ticks": ""
             }
            },
            "type": "scattergeo"
           }
          ],
          "scattergl": [
           {
            "marker": {
             "colorbar": {
              "outlinewidth": 0,
              "ticks": ""
             }
            },
            "type": "scattergl"
           }
          ],
          "scattermapbox": [
           {
            "marker": {
             "colorbar": {
              "outlinewidth": 0,
              "ticks": ""
             }
            },
            "type": "scattermapbox"
           }
          ],
          "scatterpolar": [
           {
            "marker": {
             "colorbar": {
              "outlinewidth": 0,
              "ticks": ""
             }
            },
            "type": "scatterpolar"
           }
          ],
          "scatterpolargl": [
           {
            "marker": {
             "colorbar": {
              "outlinewidth": 0,
              "ticks": ""
             }
            },
            "type": "scatterpolargl"
           }
          ],
          "scatterternary": [
           {
            "marker": {
             "colorbar": {
              "outlinewidth": 0,
              "ticks": ""
             }
            },
            "type": "scatterternary"
           }
          ],
          "surface": [
           {
            "colorbar": {
             "outlinewidth": 0,
             "ticks": ""
            },
            "colorscale": [
             [
              0,
              "#0d0887"
             ],
             [
              0.1111111111111111,
              "#46039f"
             ],
             [
              0.2222222222222222,
              "#7201a8"
             ],
             [
              0.3333333333333333,
              "#9c179e"
             ],
             [
              0.4444444444444444,
              "#bd3786"
             ],
             [
              0.5555555555555556,
              "#d8576b"
             ],
             [
              0.6666666666666666,
              "#ed7953"
             ],
             [
              0.7777777777777778,
              "#fb9f3a"
             ],
             [
              0.8888888888888888,
              "#fdca26"
             ],
             [
              1,
              "#f0f921"
             ]
            ],
            "type": "surface"
           }
          ],
          "table": [
           {
            "cells": {
             "fill": {
              "color": "#EBF0F8"
             },
             "line": {
              "color": "white"
             }
            },
            "header": {
             "fill": {
              "color": "#C8D4E3"
             },
             "line": {
              "color": "white"
             }
            },
            "type": "table"
           }
          ]
         },
         "layout": {
          "annotationdefaults": {
           "arrowcolor": "#2a3f5f",
           "arrowhead": 0,
           "arrowwidth": 1
          },
          "autotypenumbers": "strict",
          "coloraxis": {
           "colorbar": {
            "outlinewidth": 0,
            "ticks": ""
           }
          },
          "colorscale": {
           "diverging": [
            [
             0,
             "#8e0152"
            ],
            [
             0.1,
             "#c51b7d"
            ],
            [
             0.2,
             "#de77ae"
            ],
            [
             0.3,
             "#f1b6da"
            ],
            [
             0.4,
             "#fde0ef"
            ],
            [
             0.5,
             "#f7f7f7"
            ],
            [
             0.6,
             "#e6f5d0"
            ],
            [
             0.7,
             "#b8e186"
            ],
            [
             0.8,
             "#7fbc41"
            ],
            [
             0.9,
             "#4d9221"
            ],
            [
             1,
             "#276419"
            ]
           ],
           "sequential": [
            [
             0,
             "#0d0887"
            ],
            [
             0.1111111111111111,
             "#46039f"
            ],
            [
             0.2222222222222222,
             "#7201a8"
            ],
            [
             0.3333333333333333,
             "#9c179e"
            ],
            [
             0.4444444444444444,
             "#bd3786"
            ],
            [
             0.5555555555555556,
             "#d8576b"
            ],
            [
             0.6666666666666666,
             "#ed7953"
            ],
            [
             0.7777777777777778,
             "#fb9f3a"
            ],
            [
             0.8888888888888888,
             "#fdca26"
            ],
            [
             1,
             "#f0f921"
            ]
           ],
           "sequentialminus": [
            [
             0,
             "#0d0887"
            ],
            [
             0.1111111111111111,
             "#46039f"
            ],
            [
             0.2222222222222222,
             "#7201a8"
            ],
            [
             0.3333333333333333,
             "#9c179e"
            ],
            [
             0.4444444444444444,
             "#bd3786"
            ],
            [
             0.5555555555555556,
             "#d8576b"
            ],
            [
             0.6666666666666666,
             "#ed7953"
            ],
            [
             0.7777777777777778,
             "#fb9f3a"
            ],
            [
             0.8888888888888888,
             "#fdca26"
            ],
            [
             1,
             "#f0f921"
            ]
           ]
          },
          "colorway": [
           "#636efa",
           "#EF553B",
           "#00cc96",
           "#ab63fa",
           "#FFA15A",
           "#19d3f3",
           "#FF6692",
           "#B6E880",
           "#FF97FF",
           "#FECB52"
          ],
          "font": {
           "color": "#2a3f5f"
          },
          "geo": {
           "bgcolor": "white",
           "lakecolor": "white",
           "landcolor": "#E5ECF6",
           "showlakes": true,
           "showland": true,
           "subunitcolor": "white"
          },
          "hoverlabel": {
           "align": "left"
          },
          "hovermode": "closest",
          "mapbox": {
           "style": "light"
          },
          "paper_bgcolor": "white",
          "plot_bgcolor": "#E5ECF6",
          "polar": {
           "angularaxis": {
            "gridcolor": "white",
            "linecolor": "white",
            "ticks": ""
           },
           "bgcolor": "#E5ECF6",
           "radialaxis": {
            "gridcolor": "white",
            "linecolor": "white",
            "ticks": ""
           }
          },
          "scene": {
           "xaxis": {
            "backgroundcolor": "#E5ECF6",
            "gridcolor": "white",
            "gridwidth": 2,
            "linecolor": "white",
            "showbackground": true,
            "ticks": "",
            "zerolinecolor": "white"
           },
           "yaxis": {
            "backgroundcolor": "#E5ECF6",
            "gridcolor": "white",
            "gridwidth": 2,
            "linecolor": "white",
            "showbackground": true,
            "ticks": "",
            "zerolinecolor": "white"
           },
           "zaxis": {
            "backgroundcolor": "#E5ECF6",
            "gridcolor": "white",
            "gridwidth": 2,
            "linecolor": "white",
            "showbackground": true,
            "ticks": "",
            "zerolinecolor": "white"
           }
          },
          "shapedefaults": {
           "line": {
            "color": "#2a3f5f"
           }
          },
          "ternary": {
           "aaxis": {
            "gridcolor": "white",
            "linecolor": "white",
            "ticks": ""
           },
           "baxis": {
            "gridcolor": "white",
            "linecolor": "white",
            "ticks": ""
           },
           "bgcolor": "#E5ECF6",
           "caxis": {
            "gridcolor": "white",
            "linecolor": "white",
            "ticks": ""
           }
          },
          "title": {
           "x": 0.05
          },
          "xaxis": {
           "automargin": true,
           "gridcolor": "white",
           "linecolor": "white",
           "ticks": "",
           "title": {
            "standoff": 15
           },
           "zerolinecolor": "white",
           "zerolinewidth": 2
          },
          "yaxis": {
           "automargin": true,
           "gridcolor": "white",
           "linecolor": "white",
           "ticks": "",
           "title": {
            "standoff": 15
           },
           "zerolinecolor": "white",
           "zerolinewidth": 2
          }
         }
        },
        "title": {
         "text": "KMeans Clustering com Centroides"
        },
        "xaxis": {
         "anchor": "y",
         "domain": [
          0,
          1
         ],
         "title": {
          "text": "PC1"
         }
        },
        "yaxis": {
         "anchor": "x",
         "domain": [
          0,
          1
         ],
         "title": {
          "text": "PC2"
         }
        }
       }
      }
     },
     "metadata": {},
     "output_type": "display_data"
    }
   ],
   "source": [
    "def plot_kmeans_clusters(df, kmeans, labels, scaled_data):\n",
    "    \"\"\"\n",
    "    Cria um gráfico interativo em 2D ou 3D usando Plotly, mostrando os clusters e os centroides.\n",
    "\n",
    "    Args:\n",
    "        df (pd.DataFrame): DataFrame original.\n",
    "        kmeans (KMeans): Modelo KMeans treinado.\n",
    "        labels (np.ndarray): Rótulos dos clusters para cada amostra.\n",
    "        scaled_data (np.ndarray): Dados escalonados usados no KMeans.\n",
    "\n",
    "    Returns:\n",
    "        None: Exibe o gráfico interativo com Plotly.\n",
    "    \"\"\"\n",
    "    # Reduzir a dimensionalidade para 2D com PCA (caso tenha mais de 2 dimensões)\n",
    "    if scaled_data.shape[1] > 2:\n",
    "        from sklearn.decomposition import PCA\n",
    "        pca = PCA(n_components=2)\n",
    "        reduced_data = pca.fit_transform(scaled_data)\n",
    "    else:\n",
    "        reduced_data = scaled_data\n",
    "\n",
    "    # Criar DataFrame com os componentes principais ou dados originais\n",
    "    plot_df = pd.DataFrame(reduced_data, columns=['PC1', 'PC2'])\n",
    "    plot_df['cluster'] = labels\n",
    "\n",
    "    # Adicionar os centroides ao gráfico\n",
    "    centroids = kmeans.cluster_centers_\n",
    "    if scaled_data.shape[1] > 2:\n",
    "        centroids = pca.transform(centroids)\n",
    "\n",
    "    # Gráfico de dispersão com Plotly\n",
    "    fig = px.scatter(\n",
    "        plot_df, x='PC1', y='PC2', color=plot_df['cluster'].astype(str),\n",
    "        title=\"KMeans Clustering com Centroides\",\n",
    "        labels={'color': 'Cluster'}\n",
    "    )\n",
    "\n",
    "    # Adicionar os centroides ao gráfico\n",
    "    for i, centroid in enumerate(centroids):\n",
    "        fig.add_scatter(\n",
    "            x=[centroid[0]], y=[centroid[1]], \n",
    "            mode='markers', \n",
    "            marker=dict(size=12, symbol='x', color='red'),\n",
    "            name=f'Centroid {i+1}'\n",
    "        )\n",
    "\n",
    "    fig.show()\n",
    "\n",
    "\n",
    "# Exibir o gráfico interativo\n",
    "plot_kmeans_clusters(df, kmeans_modelo, labels, scaled_data)"
   ]
  },
  {
   "cell_type": "code",
   "execution_count": 16,
   "id": "3850ee05",
   "metadata": {},
   "outputs": [
    {
     "name": "stdout",
     "output_type": "stream",
     "text": [
      "         id_estacao  cd_estacao_bu  cluster\n",
      "cluster                                    \n",
      "0         32.950000     719.550000      0.0\n",
      "1         91.870968     670.677419      1.0\n",
      "2         22.772727     554.454545      2.0\n",
      "3         67.916667     548.958333      3.0\n"
     ]
    },
    {
     "data": {
      "text/plain": [
       "'\\nCalcula e exibe as médias das variáveis numéricas por cluster.\\n\\nFuncionalidade:\\n- Adiciona os rótulos dos clusters ao DataFrame original.\\n- Seleciona as colunas numéricas do DataFrame.\\n- Agrupa os dados pelos clusters e calcula a média de cada variável numérica para cada cluster.\\n\\nArgs:\\n    df (pd.DataFrame): DataFrame original contendo os dados.\\n    labels (np.ndarray): Rótulos dos clusters para cada amostra no DataFrame.\\n\\nRetorna:\\n    None: Exibe as médias de cada variável numérica por cluster no terminal.\\n'"
      ]
     },
     "execution_count": 16,
     "metadata": {},
     "output_type": "execute_result"
    }
   ],
   "source": [
    "# Adicionar os rótulos de clusters ao DataFrame original\n",
    "df['cluster'] = labels\n",
    "\n",
    "# Selecionar apenas as colunas numéricas\n",
    "numeric_columns = df.select_dtypes(include=[np.number]).columns\n",
    "\n",
    "# Calcular a média de cada variável numérica por cluster\n",
    "cluster_means = df.groupby('cluster')[numeric_columns].mean()\n",
    "\n",
    "# Exibir as médias de cada variável numérica por cluster\n",
    "print(cluster_means)\n",
    "\n",
    "\"\"\"\n",
    "Calcula e exibe as médias das variáveis numéricas por cluster.\n",
    "\n",
    "Funcionalidade:\n",
    "- Adiciona os rótulos dos clusters ao DataFrame original.\n",
    "- Seleciona as colunas numéricas do DataFrame.\n",
    "- Agrupa os dados pelos clusters e calcula a média de cada variável numérica para cada cluster.\n",
    "\n",
    "Args:\n",
    "    df (pd.DataFrame): DataFrame original contendo os dados.\n",
    "    labels (np.ndarray): Rótulos dos clusters para cada amostra no DataFrame.\n",
    "\n",
    "Retorna:\n",
    "    None: Exibe as médias de cada variável numérica por cluster no terminal.\n",
    "\"\"\"\n"
   ]
  },
  {
   "cell_type": "code",
   "execution_count": 17,
   "id": "a5f60086",
   "metadata": {},
   "outputs": [
    {
     "data": {
      "image/png": "[encoded data removed]",
      "text/plain": [
       "<Figure size 1000x600 with 1 Axes>"
      ]
     },
     "metadata": {},
     "output_type": "display_data"
    },
    {
     "data": {
      "image/png": "[encoded data removed]",
      "text/plain": [
       "<Figure size 1000x600 with 1 Axes>"
      ]
     },
     "metadata": {},
     "output_type": "display_data"
    },
    {
     "data": {
      "image/png": "[encoded data removed]",
      "text/plain": [
       "<Figure size 1000x600 with 1 Axes>"
      ]
     },
     "metadata": {},
     "output_type": "display_data"
    },
    {
     "data": {
      "text/plain": [
       "\"\\nPlota a distribuição das variáveis numéricas por cluster usando boxplots.\\n\\nFuncionalidade:\\n- Itera sobre as colunas numéricas do DataFrame.\\n- Para cada coluna, cria um boxplot mostrando a distribuição da variável em cada cluster.\\n- Ajuda a visualizar como os valores das variáveis diferem entre os clusters.\\n\\nArgs:\\n    df (pd.DataFrame): DataFrame com os dados e os rótulos dos clusters. \\n                       O DataFrame deve conter uma coluna 'cluster' com os rótulos gerados pelo KMeans.\\n\\nRetorna:\\n    None: O código gera e exibe os gráficos de boxplot para cada variável numérica por cluster.\\n\""
      ]
     },
     "execution_count": 17,
     "metadata": {},
     "output_type": "execute_result"
    }
   ],
   "source": [
    "# Iterar sobre as colunas numéricas para exibir a distribuição de cada uma, por cluster\n",
    "for column in df.select_dtypes(include=[np.number]).columns:\n",
    "    plt.figure(figsize=(10, 6))\n",
    "    sns.boxplot(x='cluster', y=column, data=df)\n",
    "    plt.title(f'Distribuição de {column} por Cluster')\n",
    "    plt.show()\n",
    "\n",
    "\"\"\"\n",
    "Plota a distribuição das variáveis numéricas por cluster usando boxplots.\n",
    "\n",
    "Funcionalidade:\n",
    "- Itera sobre as colunas numéricas do DataFrame.\n",
    "- Para cada coluna, cria um boxplot mostrando a distribuição da variável em cada cluster.\n",
    "- Ajuda a visualizar como os valores das variáveis diferem entre os clusters.\n",
    "\n",
    "Args:\n",
    "    df (pd.DataFrame): DataFrame com os dados e os rótulos dos clusters. \n",
    "                       O DataFrame deve conter uma coluna 'cluster' com os rótulos gerados pelo KMeans.\n",
    "\n",
    "Retorna:\n",
    "    None: O código gera e exibe os gráficos de boxplot para cada variável numérica por cluster.\n",
    "\"\"\"\n"
   ]
  },
  {
   "cell_type": "markdown",
   "id": "66d2d3f5",
   "metadata": {},
   "source": [
    "### 6. Visualizações Avançadas"
   ]
  },
  {
   "cell_type": "markdown",
   "id": "b0c0ddc0",
   "metadata": {},
   "source": [
    "**6.1 Visualização dos Resultados do PCA**"
   ]
  },
  {
   "cell_type": "code",
   "execution_count": 18,
   "id": "8971eb82",
   "metadata": {},
   "outputs": [
    {
     "data": {
      "image/png": "[encoded data removed]",
      "text/plain": [
       "<Figure size 800x600 with 1 Axes>"
      ]
     },
     "metadata": {},
     "output_type": "display_data"
    },
    {
     "data": {
      "text/plain": [
       "'\\nCria um gráfico de dispersão das duas primeiras componentes principais resultantes da PCA.\\n\\nFuncionalidade:\\n- O gráfico de dispersão exibe os pontos correspondentes às amostras nos eixos das componentes principais (PC1 e PC2).\\n- Os rótulos dos eixos indicam a porcentagem de variância explicada por cada componente.\\n\\nArgs:\\n    pca_df (pd.DataFrame): DataFrame contendo os valores das componentes principais (PC1 e PC2).\\n    pca_modelo (PCA): Modelo PCA treinado, contendo as variâncias explicadas por cada componente principal.\\n\\nReturns:\\n    None: O gráfico de dispersão é exibido com Plotly, mostrando as componentes principais e sua variância explicada.\\n'"
      ]
     },
     "execution_count": 18,
     "metadata": {},
     "output_type": "execute_result"
    }
   ],
   "source": [
    "def plot_pca_scatter(pca_df, pca_modelo):\n",
    "    \"\"\"\n",
    "    Cria um gráfico de dispersão das duas primeiras componentes principais resultantes da PCA.\n",
    "\n",
    "    Args:\n",
    "        pca_df (pd.DataFrame): DataFrame com os dados das componentes principais resultantes da PCA (PC1, PC2).\n",
    "        pca_modelo (PCA): O modelo PCA treinado, contendo as variâncias explicadas para as componentes principais.\n",
    "\n",
    "    Returns:\n",
    "        None: Exibe o gráfico de dispersão das componentes principais (PC1 e PC2).\n",
    "    \"\"\"\n",
    "    # Criar o gráfico de dispersão\n",
    "    plt.figure(figsize=(8, 6))\n",
    "    sns.scatterplot(x='PC1', y='PC2', data=pca_df)\n",
    "\n",
    "    # Adicionar título e rótulos aos eixos com a variância explicada por cada componente\n",
    "    plt.title('PCA - Gráfico de Dispersão')\n",
    "    plt.xlabel(f'PC1 - {pca_modelo.explained_variance_ratio_[0]:.2f}')\n",
    "    plt.ylabel(f'PC2 - {pca_modelo.explained_variance_ratio_[1]:.2f}')\n",
    "    \n",
    "    # Exibir o gráfico\n",
    "    plt.show()\n",
    "\n",
    "plot_pca_scatter(pca_df, pca_modelo)\n",
    "    \n",
    "\"\"\"\n",
    "Cria um gráfico de dispersão das duas primeiras componentes principais resultantes da PCA.\n",
    "\n",
    "Funcionalidade:\n",
    "- O gráfico de dispersão exibe os pontos correspondentes às amostras nos eixos das componentes principais (PC1 e PC2).\n",
    "- Os rótulos dos eixos indicam a porcentagem de variância explicada por cada componente.\n",
    "\n",
    "Args:\n",
    "    pca_df (pd.DataFrame): DataFrame contendo os valores das componentes principais (PC1 e PC2).\n",
    "    pca_modelo (PCA): Modelo PCA treinado, contendo as variâncias explicadas por cada componente principal.\n",
    "\n",
    "Returns:\n",
    "    None: O gráfico de dispersão é exibido com Plotly, mostrando as componentes principais e sua variância explicada.\n",
    "\"\"\"\n"
   ]
  },
  {
   "cell_type": "markdown",
   "id": "b825c51b",
   "metadata": {},
   "source": [
    "**6.2 Visualização dos Clusters com KMeans**"
   ]
  },
  {
   "cell_type": "code",
   "execution_count": 19,
   "id": "5d12c6d1",
   "metadata": {},
   "outputs": [
    {
     "data": {
      "image/png": "[encoded data removed]",
      "text/plain": [
       "<Figure size 800x600 with 1 Axes>"
      ]
     },
     "metadata": {},
     "output_type": "display_data"
    }
   ],
   "source": [
    "def plot_kmeans_clusters(df, labels, pca_modelo):\n",
    "    \"\"\"\n",
    "    Cria um gráfico de dispersão das duas primeiras componentes principais resultantes da PCA, \n",
    "    colorido pelos rótulos de clusters gerados pelo KMeans.\n",
    "\n",
    "    Args:\n",
    "        df (pd.DataFrame): DataFrame original com os dados a serem agrupados.\n",
    "        labels (np.ndarray): Rótulos dos clusters gerados pelo KMeans.\n",
    "        pca_modelo (PCA): O modelo PCA já ajustado aos dados para reduzir a dimensionalidade.\n",
    "\n",
    "    Returns:\n",
    "        None: Exibe o gráfico de dispersão com as componentes principais e os clusters.\n",
    "    \"\"\"\n",
    "    # Reduzir a dimensionalidade para 2D usando PCA para visualização\n",
    "    pca_df, _ = realizar_pca(df, n_componentes=2)\n",
    "\n",
    "    # Criar o gráfico de dispersão, colorindo pelos rótulos de cluster\n",
    "    plt.figure(figsize=(8, 6))\n",
    "    sns.scatterplot(x='PC1', y='PC2', hue=labels, palette='viridis', data=pca_df)\n",
    "\n",
    "    # Adicionar título e rótulos aos eixos\n",
    "    plt.title('KMeans Clustering - Gráfico de Dispersão com PCA')\n",
    "    plt.xlabel('PC1')\n",
    "    plt.ylabel('PC2')\n",
    "    plt.legend(title='Cluster')\n",
    "\n",
    "    # Exibir o gráfico\n",
    "    plt.show()\n",
    "\n",
    "plot_kmeans_clusters(df, labels, pca_modelo)\n",
    "\n"
   ]
  },
  {
   "cell_type": "markdown",
   "id": "d06117e2",
   "metadata": {},
   "source": [
    "### 7. Conclusões"
   ]
  },
  {
   "cell_type": "markdown",
   "id": "a8a69e62",
   "metadata": {},
   "source": [
    "### Descobertas:\n",
    "\n",
    "- **Descoberta 1: Dicionário de Estações**  \n",
    "  Ao invés de tratar-se de uma base de dados operacionais, o conjunto utilizado é, na verdade, um dicionário que contém as seguintes informações para cada estação: `id_estacao`, `tx_prefixo`, `tx_nome` e `cd_estacao_bu`. Essas variáveis representam dados estruturais, como o identificador da estação (ID), o nome da estação e o código relacionado ao sistema de transporte (BU), sem fornecer métricas de desempenho, demanda ou outras variáveis operacionais que poderiam ser usadas em análises mais complexas, como previsões ou otimizações.\n",
    "\n",
    "- **Descoberta 2: Estrutura dos Dados**  \n",
    "  O dicionário organiza as estações da CPTM por seus identificadores (`id_estacao`) e códigos de estação (`cd_estacao_bu`), sendo que esses elementos não estão correlacionados de forma direta, como demonstrado pela baixa correlação (0.14) entre essas variáveis. Isso indica que os IDs e códigos não seguem uma lógica linear ou previsível entre si, possivelmente sendo atribuídos com base em critérios independentes, como geografia, infraestrutura ou integração com outros sistemas.\n",
    "\n",
    "- **Descoberta 3: Dados Limitados para Análises Complexas**  \n",
    "  Como o dicionário de estações não contém variáveis operacionais (como fluxo de passageiros, horários de pico, ou dados financeiros), ele não permite análises preditivas ou a aplicação de técnicas mais avançadas, como otimização de desempenho ou previsão de demanda. Trata-se de um recurso de identificação e organização, útil para gerenciar as estações e facilitar a consulta de suas características básicas.\n",
    "\n",
    "- **Descoberta 4: Clusters Baseados em IDs e Códigos**  \n",
    "  Embora seja possível agrupar as estações de acordo com as variáveis disponíveis (`id_estacao` e `cd_estacao_bu`), os clusters formados seriam puramente descritivos, sem trazer informações adicionais sobre a operação das estações. Isso significa que qualquer agrupamento derivado deste dicionário seria uma organização formal dos dados, sem implicações diretas sobre o funcionamento ou a performance das estações.\n",
    "\n",
    "### Hipóteses:\n",
    "\n",
    "Não é possível formular hipóteses relevantes com base no dicionário de estações, pois os dados presentes (`id_estacao`, `tx_prefixo`, `tx_nome` e `cd_estacao_bu`) são apenas informações estáticas de identificação. Para gerar hipóteses sobre o funcionamento ou a otimização das operações da CPTM, seriam necessários dados operacionais ou métricas relacionadas à performance, fluxo de passageiros, manutenção ou infraestrutura."
   ]
  },
  {
   "cell_type": "markdown",
   "id": "2d4d282e",
   "metadata": {},
   "source": [
    "### 8. Salvamento dos Dados Processados"
   ]
  },
  {
   "cell_type": "code",
   "execution_count": 20,
   "id": "2db226ef",
   "metadata": {},
   "outputs": [
    {
     "name": "stdout",
     "output_type": "stream",
     "text": [
      "Dados processados salvos em: C:/Users/Inteli/Documents/dados_cptm/caixa_preta/processed\\estacao.parquet\n"
     ]
    },
    {
     "data": {
      "text/plain": [
       "'C:/Users/Inteli/Documents/dados_cptm/caixa_preta/processed\\\\estacao.parquet'"
      ]
     },
     "execution_count": 20,
     "metadata": {},
     "output_type": "execute_result"
    }
   ],
   "source": [
    "def salvar_df_como_parquet(df, file_name, data_dir):\n",
    "    \"\"\"\n",
    "    Salva um DataFrame processado em formato Parquet.\n",
    "\n",
    "    Args:\n",
    "        df (pd.DataFrame): DataFrame com os dados processados a serem salvos.\n",
    "        file_name (str): Nome do arquivo Parquet (sem extensão).\n",
    "        data_dir (str): Diretório onde o arquivo Parquet será salvo.\n",
    "\n",
    "    Returns:\n",
    "        str: Caminho completo do arquivo Parquet salvo.\n",
    "    \"\"\"\n",
    "    # Criar o diretório de dados processados, se não existir\n",
    "    processed_data_dir = os.path.join(data_dir, 'processed')\n",
    "    os.makedirs(processed_data_dir, exist_ok=True)\n",
    "\n",
    "    # Caminho completo para salvar o arquivo Parquet (sem sufixo '_processed')\n",
    "    parquet_path = os.path.join(processed_data_dir, f\"{file_name}.parquet\")\n",
    "\n",
    "    # Salvar o DataFrame no formato Parquet\n",
    "    df.to_parquet(parquet_path, index=False)\n",
    "\n",
    "    # Exibir a mensagem de confirmação\n",
    "    print(f\"Dados processados salvos em: {parquet_path}\")\n",
    "\n",
    "    return parquet_path\n",
    "\n",
    "salvar_df_como_parquet(df, \"estacao\", DATA_DIR)\n"
   ]
  },
  {
   "cell_type": "markdown",
   "id": "e065469f",
   "metadata": {},
   "source": [
    "### 9. Upload dos Dados Processados para o S3"
   ]
  },
  {
   "cell_type": "code",
   "execution_count": 21,
   "id": "25625c53",
   "metadata": {},
   "outputs": [],
   "source": [
    "# Carregar as variáveis do .env\n",
    "load_dotenv()\n",
    "\n",
    "# Acessar as variáveis de ambiente\n",
    "aws_access_key = os.getenv('AWS_ACCESS_KEY_ID')\n",
    "aws_secret_access_key = os.getenv('AWS_SECRET_ACCESS_KEY')\n",
    "aws_session_token = os.getenv('AWS_SESSION_TOKEN')\n",
    "aws_region_name = os.getenv('AWS_REGION_NAME')\n",
    "\n",
    "# Verificar se as variáveis foram carregadas corretamente\n",
    "if not aws_access_key or not aws_secret_access_key or not aws_session_token or not aws_region_name:\n",
    "    raise ValueError(\"As credenciais da AWS ou a região não foram carregadas corretamente.\")"
   ]
  },
  {
   "cell_type": "code",
   "execution_count": 22,
   "id": "9d1d8d7f",
   "metadata": {},
   "outputs": [
    {
     "name": "stdout",
     "output_type": "stream",
     "text": [
      "Erro ao criar bucket: An error occurred (ExpiredToken) when calling the CreateBucket operation: The provided token has expired.\n"
     ]
    }
   ],
   "source": [
    "# Usar as credenciais com o boto3\n",
    "s3 = boto3.client('s3',\n",
    "                  aws_access_key_id=aws_access_key,\n",
    "                  aws_secret_access_key=aws_secret_access_key,\n",
    "                  aws_session_token=aws_session_token,\n",
    "                  region_name=aws_region_name)\n",
    "\n",
    "bucket_name = f\"perola-negra\"  \n",
    "\n",
    "# Tentar criar o bucket no S3\n",
    "try:\n",
    "    if aws_region_name == 'us-east-1':\n",
    "        s3.create_bucket(Bucket=bucket_name)\n",
    "    else:\n",
    "        s3.create_bucket(Bucket=bucket_name,\n",
    "                         CreateBucketConfiguration={'LocationConstraint': aws_region_name})\n",
    "    \n",
    "    print(f\"Bucket '{bucket_name}' criado com sucesso.\")\n",
    "except s3.exceptions.BucketAlreadyOwnedByYou:\n",
    "    print(f\"Bucket '{bucket_name}' já existe e é de sua propriedade.\")\n",
    "except Exception as e:\n",
    "    print(f\"Erro ao criar bucket: {e}\")"
   ]
  },
  {
   "cell_type": "code",
   "execution_count": 23,
   "id": "178d036b",
   "metadata": {},
   "outputs": [
    {
     "name": "stdout",
     "output_type": "stream",
     "text": [
      "Erro ao enviar arquivo para S3: Failed to upload C:/Users/Inteli/Documents/dados_cptm/caixa_preta/processed/estacao.parquet to perola-negra/caixapreta/estacao.parquet: An error occurred (ExpiredToken) when calling the PutObject operation: The provided token has expired.\n"
     ]
    }
   ],
   "source": [
    "def upload_arquivo_para_s3(parquet_file_name, bucket_name, subpasta, data_dir):\n",
    "    \"\"\"\n",
    "    Faz o upload de um arquivo Parquet específico para uma subpasta em um bucket S3.\n",
    "\n",
    "    Args:\n",
    "        parquet_file_name (str): Nome do arquivo Parquet a ser enviado (sem extensão .parquet).\n",
    "        bucket_name (str): Nome do bucket S3.\n",
    "        subpasta (str): Nome da subpasta dentro do bucket S3.\n",
    "        data_dir (str): Diretório local onde o arquivo Parquet está salvo.\n",
    "\n",
    "    Returns:\n",
    "        None\n",
    "    \"\"\"\n",
    "    parquet_local = os.path.join(data_dir, f\"{parquet_file_name}.parquet\")\n",
    "\n",
    "    s3_key = f\"{subpasta}/{parquet_file_name}.parquet\"\n",
    "\n",
    "    try:\n",
    "        # Enviar o arquivo para o bucket S3 na subpasta especificada\n",
    "        s3.upload_file(parquet_local, bucket_name, s3_key)\n",
    "        print(f\"Arquivo '{parquet_local}' enviado para '{s3_key}' no bucket '{bucket_name}'.\")\n",
    "    except Exception as e:\n",
    "        print(f\"Erro ao enviar arquivo para S3: {e}\")\n",
    "\n",
    "PROCESSED_DATA_DIR = 'C:/Users/Inteli/Documents/dados_cptm/caixa_preta/processed/'\n",
    "\n",
    "# Definir nome do bucket e subpasta\n",
    "bucket_name = 'perola-negra'\n",
    "subpasta = 'caixapreta'\n",
    "parquet_file_name = 'estacao'\n",
    "\n",
    "upload_arquivo_para_s3(parquet_file_name, bucket_name, subpasta, PROCESSED_DATA_DIR)"
   ]
  }
 ],
 "metadata": {
  "kernelspec": {
   "display_name": "Python 3 (ipykernel)",
   "language": "python",
   "name": "python3"
  }
 },
 "nbformat": 4,
 "nbformat_minor": 5
}
